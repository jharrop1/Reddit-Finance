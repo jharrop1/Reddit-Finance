{
 "cells": [
  {
   "cell_type": "code",
   "execution_count": 18,
   "metadata": {},
   "outputs": [],
   "source": [
    "import nltk\n",
    "from nltk.corpus import stopwords\n",
    "from nltk.tokenize import word_tokenize\n",
    "import re\n",
    "from nltk.stem import PorterStemmer\n",
    "import numpy as np\n",
    "import pandas as pd\n",
    "import seaborn as sns\n",
    "import matplotlib.pyplot as plt\n",
    "import sklearn\n",
    "from sklearn.utils import resample\n",
    "from sklearn.naive_bayes import MultinomialNB, BernoulliNB\n",
    "from sklearn.linear_model import LogisticRegression, SGDClassifier\n",
    "from sklearn.svm import SVC, LinearSVC, NuSVC\n",
    "from nltk.classify.scikitlearn import SklearnClassifier\n",
    "from nltk.classify import ClassifierI\n",
    "import math\n",
    "import random\n",
    "import pickle\n",
    "from statistics import mode"
   ]
  },
  {
   "cell_type": "markdown",
   "metadata": {},
   "source": [
    "We declare a function, clean_comment, to regex and tokenize comments."
   ]
  },
  {
   "cell_type": "code",
   "execution_count": 19,
   "metadata": {},
   "outputs": [],
   "source": [
    "stop_words = set(stopwords.words(\"english\"))\n",
    "\n",
    "def clean_comment(comment):\n",
    "    ps = PorterStemmer()\n",
    "    regex = re.compile('[^ a-zA-Z]')\n",
    "    cleaned_comment = regex.sub('', comment)\n",
    "    tokenized_words = word_tokenize(cleaned_comment.lower())\n",
    "    cleaned_comments = []\n",
    "\n",
    "    for word in tokenized_words:\n",
    "        if word not in stop_words:\n",
    "            cleaned_comments.append(ps.stem(word))\n",
    "\n",
    "    return cleaned_comments"
   ]
  },
  {
   "cell_type": "markdown",
   "metadata": {},
   "source": [
    "We start by creating a df of our sample data. We then have to do some work on it to prep it as training data."
   ]
  },
  {
   "cell_type": "code",
   "execution_count": 20,
   "metadata": {},
   "outputs": [
    {
     "name": "stdout",
     "output_type": "stream",
     "text": [
      "                                                Text  Sentiment\n",
      "0                                       What's updog          0\n",
      "1                                    Donât tell em          0\n",
      "2  I realize this, ive been losing thousands shoo...          1\n",
      "3                       then it tanks after earnings          0\n",
      "4  Are you saying I should or shouldnât yolo my...          0\n",
      "5  Right?! Youâre here because you trade and tr...          0\n",
      "6                                       Farmers Only          1\n",
      "7  Yahoo is a fantastic resource you absolute cretin          0\n",
      "8             Going to have some Asian Thursday bois          0\n",
      "9  Are you holding bags?\\n\\nHope and prayers are ...          1\n"
     ]
    }
   ],
   "source": [
    "df = pd.read_csv('wallstreetbets-posts-and-comments-for-august-2021-comments.csv', sep=',', encoding='latin-1')\n",
    "df = df.filter(['body', 'sentiment'])\n",
    "\n",
    "sentiment = df['sentiment']\n",
    "actual_sentiment = []\n",
    "text = df['body']\n",
    "\n",
    "\n",
    "for i in range(len(sentiment)):\n",
    "    if sentiment[i] > 0.3:\n",
    "        actual_sentiment.append(1)\n",
    "    if sentiment[i] < -0.3:\n",
    "        actual_sentiment.append(-1)\n",
    "    else:\n",
    "        actual_sentiment.append(0)\n",
    "\n",
    "data_tuples = list(zip(text, actual_sentiment))\n",
    "df = pd.DataFrame(data_tuples, columns=['Text', 'Sentiment'])\n",
    "df = df.head(10000)\n",
    "\n",
    "print(df.head(10))"
   ]
  },
  {
   "cell_type": "markdown",
   "metadata": {},
   "source": [
    "Let us look into class balance in the above df."
   ]
  },
  {
   "cell_type": "code",
   "execution_count": 21,
   "metadata": {},
   "outputs": [
    {
     "data": {
      "image/png": "[encoded data removed]",
      "text/plain": [
       "<Figure size 432x288 with 1 Axes>"
      ]
     },
     "metadata": {},
     "output_type": "display_data"
    }
   ],
   "source": [
    "plt.figure(figsize = None)\n",
    "sns.set_theme(style=\"darkgrid\")\n",
    "sns.countplot(x=\"Sentiment\", data=df)\n",
    "plt.title(\"Pos vs. Negative Sentiment\", fontsize = 15)\n",
    "plt.show()"
   ]
  },
  {
   "cell_type": "markdown",
   "metadata": {},
   "source": [
    "Based on the above, we need to upsample our negative sentiment."
   ]
  },
  {
   "cell_type": "code",
   "execution_count": 22,
   "metadata": {},
   "outputs": [],
   "source": [
    "df_majority = df[df['Sentiment'] == 1]\n",
    "df_minority = df[df['Sentiment'] == -1]\n",
    "\n",
    "minority_upsample = resample(df_minority, replace = True, n_samples = df_majority.shape[0], random_state=101)\n",
    "\n",
    "df_upsampled = pd.concat([minority_upsample, df_majority])\n",
    "df_upsampled = df_upsampled.sample(frac=1)"
   ]
  },
  {
   "cell_type": "markdown",
   "metadata": {},
   "source": [
    "Check our upsample"
   ]
  },
  {
   "cell_type": "code",
   "execution_count": 23,
   "metadata": {},
   "outputs": [
    {
     "data": {
      "image/png": "[encoded data removed]",
      "text/plain": [
       "<Figure size 432x288 with 1 Axes>"
      ]
     },
     "metadata": {},
     "output_type": "display_data"
    }
   ],
   "source": [
    "plt.figure(figsize = None)\n",
    "sns.set_theme(style=\"darkgrid\")\n",
    "sns.countplot(x=\"Sentiment\", data=df_upsampled)\n",
    "plt.title(\"Pos vs. Negative Sentiment\", fontsize = 15)\n",
    "plt.show()"
   ]
  },
  {
   "cell_type": "code",
   "execution_count": 24,
   "metadata": {},
   "outputs": [
    {
     "name": "stdout",
     "output_type": "stream",
     "text": [
      "                                                   Text  Sentiment\n",
      "1617  Nice try Mr.Belfort. Shill your shit stock som...         -1\n",
      "2373             Stocks go up...but stocks go down too.         -1\n",
      "4396   So glad I sold my SKLZ shares yesterdayâ¦. ð¤¡          1\n",
      "7920                               how is it going now?         -1\n",
      "4204  OTM options are incredibly cheap. $14 calls fo...         -1\n",
      "...                                                 ...        ...\n",
      "29                               Thanks for sharing bro         -1\n",
      "137   As an ape who jumped on the bandwagon a few mo...          1\n",
      "5295                                          [removed]         -1\n",
      "6684                                          [removed]          1\n",
      "5500  Theyâll still be trading during their classe...          1\n",
      "\n",
      "[3674 rows x 2 columns]\n"
     ]
    }
   ],
   "source": [
    "print(df_upsampled)"
   ]
  },
  {
   "cell_type": "markdown",
   "metadata": {},
   "source": [
    " We begin by compiling a feature list of words from our positive and negative comments to begin to see trends in which words fall into which category generally.\n",
    "\n",
    "We begin by building a frequency distribution of words in our comments. We can also use this to build our vocab."
   ]
  },
  {
   "cell_type": "code",
   "execution_count": 25,
   "metadata": {},
   "outputs": [],
   "source": [
    "# TASK CELL\n",
    "def word_counter(comments, sentiment):\n",
    "    '''\n",
    "    Params:\n",
    "        comments: a list of comments\n",
    "        sentiment: a list corresponding to the sentiment of each message (either 0 or 1)\n",
    "    Return:\n",
    "        output_occurence: a dictionary mapping each pair to its frequency\n",
    "    '''\n",
    "\n",
    "    output_occurence = {}\n",
    "    vocab = []\n",
    "\n",
    "\n",
    "    for label, comment in zip(sentiment, comments):\n",
    "        for word in clean_comment(comment):\n",
    "            vocab.append(word)\n",
    "            composite_key = (word, label)\n",
    "            keys = output_occurence.keys()\n",
    "            if composite_key in keys:\n",
    "                output_occurence[composite_key] += 1\n",
    "            else:\n",
    "                output_occurence[composite_key] = 1\n",
    "\n",
    "    vocab = set(vocab)\n",
    "    \n",
    "    return output_occurence, vocab"
   ]
  },
  {
   "cell_type": "code",
   "execution_count": 26,
   "metadata": {},
   "outputs": [
    {
     "name": "stdout",
     "output_type": "stream",
     "text": [
      "['much', 'pay', 'subtract', 'strike', 'price', 'get', 'breakeven', 'point', 'expirationlook', 'vega', 'option', 'chain', 'look', 'histor', 'volatil', 'prior', 'earn', 'event', 'see', 'much', 'volatil', 'drop', 'multipli', 'percentag', 'point', 'drop', 'vega', 'get', 'approxim', 'amount', 'valu', 'put', 'lost', 'due', 'iv', 'crush']\n"
     ]
    }
   ],
   "source": [
    "#random.shuffle(documents)\n",
    "#print(documents[0])\n",
    "vocab = []\n",
    "comments = []\n",
    "sentiments = []\n",
    "documents = []\n",
    "\n",
    "for comment in df_upsampled['Text']:\n",
    "    comments.append(clean_comment(comment))\n",
    "\n",
    "for sentiment in df_upsampled['Sentiment']:\n",
    "    sentiments.append(sentiment)\n",
    "\n",
    "for i in range(len(comments)):\n",
    "    documents.append((comments[i], sentiments[i]))\n",
    "\n",
    "random.shuffle(documents)\n",
    "\n",
    "for comment in comments:\n",
    "    for word in comment:\n",
    "        vocab.append(word)\n",
    "\n",
    "vocab = nltk.FreqDist(vocab)\n",
    "\n",
    "vocab_features = list(vocab.keys())\n",
    "\n",
    "print(documents[0][0])\n"
   ]
  },
  {
   "cell_type": "code",
   "execution_count": 27,
   "metadata": {},
   "outputs": [],
   "source": [
    "#Pickles documents for faster use later on\n",
    "save_documents = open(\"pickled_outputs/documents.pickle\",\"wb\")\n",
    "pickle.dump(documents, save_documents)\n",
    "save_documents.close()\n",
    "\n",
    "#Pickles the features for faster use later on\n",
    "save_vocab_features = open(\"pickled_outputs/vocab_features.pickle\",\"wb\")\n",
    "pickle.dump(vocab_features, save_vocab_features)\n",
    "save_vocab_features.close()"
   ]
  },
  {
   "cell_type": "markdown",
   "metadata": {},
   "source": [
    "Now, we categorize each word as positive or negative. We build a function that finds words in our comments and gets their most frequent classification from the dictionary created in find_occurence."
   ]
  },
  {
   "cell_type": "code",
   "execution_count": 28,
   "metadata": {},
   "outputs": [],
   "source": [
    "def find_features(comment):\n",
    "    '''\n",
    "    Params:\n",
    "        document: our comment and sentiment\n",
    "    Return:\n",
    "        the features, a dictionary of words in the comment mapped to sentiment\n",
    "    '''\n",
    "    words = comment\n",
    "    features = {}\n",
    "\n",
    "    for w in vocab_features:\n",
    "        features[w] = (w in words)\n",
    "\n",
    "    return features"
   ]
  },
  {
   "cell_type": "code",
   "execution_count": 29,
   "metadata": {},
   "outputs": [
    {
     "name": "stdout",
     "output_type": "stream",
     "text": [
      "({'nice': False, 'tri': False, 'mrbelfort': False, 'shill': False, 'shit': False, 'stock': False, 'somewher': False, 'els': False, 'go': True, 'upbut': False, 'glad': False, 'sold': False, 'sklz': False, 'share': False, 'yesterday': False, 'otm': False, 'option': False, 'incred': False, 'cheap': False, 'call': False, 'next': False, 'friday': False, 'contract': False, 'buy': False, 'youll': False, 'itm': False, 'day': False, 'two': False, 'made': False, 'run': False, 'past': False, 'month': False, 'think': False, 'mean': False, 'mr': False, 'fartadel': False, 'rightbeep': False, 'boop': False, 'im': False, 'realli': False, 'clever': False, 'inexplic': False, 'popular': False, 'bot': False, 'show': False, 'us': False, 'touch': False, 'sorri': False, 'break': False, 'heart': False, 'market': False, 'top': False, 'everyon': False, 'greedi': False, 'fuck': False, 'way': False, 'around': False, 'good': False, 'writeup': False, 'look': True, 'chart': False, 'know': False, 'isnt': False, 'obviou': False, 'point': False, 'entri': False, 'eye': False, 'read': False, 'your': False, 'pretti': False, 'spot': False, 'inventori': False, 'right': False, 'doubl': False, 'today': False, 'nvda': False, 'hope': False, 'wasnt': False, 'absolut': False, 'stupid': False, 'move': False, 'wait': False, 'get': False, 'radar': False, 'rock': False, 'hey': False, 'luck': False, 'proofhttpsimgurcomgvph': False, 'remov': False, 'pay': False, 'debt': False, 'best': False, 'one': True, 'biotech': False, 'far': False, 'alreadi': False, 'wish': False, 'bought': False, 'oh': False, 'well': False, 'probabl': False, 'averag': False, 'pullback': False, 'commod': False, 'canadian': False, 'give': False, 'dickhol': False, 'person': False, 'thought': False, 'power': False, 'hour': False, 'dump': False, 'everyday': False, 'see': False, 'f': False, 'littl': False, 'watch': False, 'though': False, 'ask': False, 'friend': False, 'would': False, 'tesla': False, 'didnt': False, 'factori': False, 'world': False, 'sure': False, 'hurt': True, 'posit': False, 'baba': False, 'httpswwwgooglecomampswwwcbsnewscomampnewsjeromepowellfederalreservechairprogressivesbidenreplac': False, 'climat': False, 'specif': False, 'that': False, 'bodi': False, 'bro': False, 'juat': False, 'mad': False, 'kid': False, 'take': False, 'op': False, 'wife': False, 'bonnaroo': False, 'cancel': False, 'goe': False, 'weekend': False, 'bitch': False, 'geek': False, 'dick': False, 'farm': False, 'flair': False, 'doesnt': False, 'check': False, 'c': False, 'print': False, 'bigli': False, 'alway': False, 'wonder': False, 'happen': False, 'credit': False, 'card': False, 'account': False, 'bill': False, 'etc': False, 'need': False, 'paid': False, 'manag': False, 'everi': False, 'jail': False, 'presum': False, 'internet': False, 'access': False, 'someon': False, 'password': False, 'handl': False, 'holi': False, 'spit': False, 'spi': False, 'leap': False, 'januari': False, 'may': False, 'liquid': False, 'grab': False, 'liter': False, 'cant': False, 'tit': False, 'breakeven': False, 'free': False, 'money': False, 'clf': False, 'inflat': False, 'hedg': False, 'hrc': False, 'price': False, 'high': False, 'consum': False, 'regardless': False, 'increas': False, 'kathi': False, 'said': False, 'time': False, 'stop': False, 'own': False, 'china': False, 'stonk': False, 'ago': False, 'fell': False, 'soon': False, 'week': False, 'back': False, 'gobbl': False, 'jd': False, 'pdd': False, 'much': False, 'mani': False, 'hate': False, 'mostli': False, 'endors': False, 'make': False, 'yup': False, 'start': False, 'work': False, 'offic': False, 'last': False, 'year': False, 'first': False, 'labor': False, 'lul': False, 'least': False, 'th': False, 'regurgit': False, 'sentimentarticl': False, 'morn': False, 'got': False, 'issu': False, 'amc': False, 'solid': False, 'play': False, 'great': False, 'popcorn': False, 'ta': True, 'keep': False, 'ssn': False, 'dont': False, 'even': False, 'feed': False, 'winwin': False, 'addi': False, 'playmotley': False, 'fool': False, 'sharestock': False, 'rebound': False, 'profit': False, 'hold': False, 'bag': False, 'crsr': False, 'bagshttpswwwcorsaircomusencategoriesproductsapparelandgearccorproductsapparelgearqafeaturedaproductcategoriesacorproductsapparelgearbagsamptextamppagesizerotatingtext': False, 'delet': False, 'rememb': False, 'ban': False, 'dd': False, 'ast': False, 'agoof': False, 'cours': False, 'pump': False, 'k': False, 'expir': False, 'thank': False, 'lol': False, 'dollar': False, 'yolo': False, 'case': False, 'noob': False, 'smooth': False, 'brain': False, 'result': False, 'evid': False, 'pattern': False, 'wick': False, 'smaht': False, 'ape': False, 'alll': False, 'pe': False, 'earn': False, 'per': False, 'affect': False, 'split': False, 'stay': False, 'ep': False, 'changedp': False, 'epsep': False, 'earningsshar': False, 'outstandingif': False, 'compani': False, 'x': False, 'ratio': False, 'new': False, 'smaller': False, 'epsaft': False, 'epsxaft': False, 'also': False, 'bepeaft': False, 'pricexepsx': False, 'fundamentalist': False, 'use': False, 'ill': False, 'pass': False, 'ah': False, 'might': False, 'red': False, 'yeah': False, 'neg': False, 'took': False, 'loss': False, 'dip': False, 'gain': False, 'interest': False, 'rate': False, 'percent': False, 'drop': False, 'nosed': False, 'pandem': False, 'thing': False, 'trend': False, 'downward': False, 'forev': False, 'consid': False, 'low': False, 'crisi': False, 'idea': False, 'monetari': False, 'polici': False, 'stave': False, 'collaps': False, 'slowli': False, 'return': False, 'normalbut': False, 'werent': False, 'abl': False, 'decent': False, 'amount': False, 'eventu': False, 'big': False, 'problem': False, 'come': False, 'suddenli': False, 'revers': False, 'gone': False, 'yall': False, 'member': False, 'begin': False, 'april': False, 'bull': False, 'optimist': False, 'say': False, 'dehorn': False, 'anu': False, 'stretch': False, 'bear': False, 'ass': False, 'septemb': False, 'rwallstreetbet': False, 'submiss': False, 'short': False, 'pleas': False, 'comment': False, 'worth': False, 'expound': False, 'hell': False, 'aapl': False, 'guy': False, 'sit': False, 'octob': False, 'wan': False, 'na': False, 'choke': False, 'mf': False, 'tendi': False, 'gud': False, 'retard': False, 'north': False, 'korea': False, 'enter': False, 'chat': False, 'end': False, 'near': False, 'put': False, 'sept': False, 'late': False, 'oct': False, 'zoom': False, 'tomorrow': False, 'swbi': False, 'chpt': False, 'readi': False, 'cash': False, 'gang': False, 'gon': False, 'ramp': False, 'anticip': False, 'sell': False, 'kind': False, 'expens': False, 'risk': False, 'iv': False, 'leav': False, 'hat': False, 'could': False, 'given': False, 'without': False, 'match': False, 'anoth': False, 'offer': False, 'user': False, 'report': False, 'total': False, 'submissionsfirst': False, 'seen': False, 'wsb': False, 'agotot': False, 'commentsprevi': False, 'ddxhttpswwwredditcomrwallstreetbetscommentspagyexpiisoneofthemostcriminallyundervalu': False, 'xhttpswwwredditcomrwallstreetbetscommentspfbvroscrshortsqueezeplaywithastockwith': False, 'xhttpswwwredditcomrwallstreetbetscommentspfcmyoscrseriouslyundervaluedgemthatipodthi': False, 'xhttpswwwredditcomrwallstreetbetscommentspciyuthenextteslaisrightinfrontofyourey': False, 'xhttpswwwredditcomrwallstreetbetscommentspcqothenextteslaisrightinfrontofyourey': False, 'xhttpswwwredditcomrwallstreetbetscommentspctaothenextteslaisrightinfrontofyourey': False, 'age': False, 'monthsscan': False, 'httpswwwredditcommessagecomposetovisualmodampsubjectscancommentampmessagereplacethistextwithacommentidwhichlookslikehcqktohavethebotscanyourcommentandcorrectyourfirstseendatescan': False, 'httpswwwredditcommessagecomposetovisualmodampsubjectscansubmissionampmessagereplacethistextwithasubmissionidwhichlookslikehcqktohavethebotscanyoursubmissionandcorrectyourfirstseend': False, 'ufuturetrillionair': False, 'repli': False, 'screenshot': False, 'entryexit': False, 'green': False, 'enuff': False, 'shoot': False, 'ath': False, 'slash': False, 'away': False, 'find': False, 'episod': False, 'kai': False, 'post': False, 'trade': False, 'claim': False, 'michael': False, 'burri': False, 'ball': False, 'prove': False, 'underachiev': False, 'loser': False, 'let': False, 'rot': False, 'central': False, 'illinoi': False, 'here': False, 'cliff': False, 'dive': False, 'miss': False, 'utoydan': False, 'wow': False, 'hard': False, 'understand': False, 'like': False, 'real': False, 'david': False, 'attenborough': False, 'messag': False, 'appreciatedhttpsstreamablecomziaq': False, 'schizo': False, 'af': False, 'fomod': False, 'close': False, 'shitter': False, 'wrote': False, 'similar': False, 'holiday': False, 'remind': False, 'sinc': False, 'fed': False, 'chairman': False, 'job': False, 'descript': False, 'includ': False, 'combat': False, 'chang': False, 'racial': False, 'inequ': False, 'eat': False, 'dumb': False, 'three': False, 'held': False, 'rape': False, 'dropdown': False, 'squeez': False, 'rare': False, 'somehow': False, 'toss': False, 'lot': False, 'ya': False, 'tsla': False, 'long': False, 'exponenti': False, 'decreas': False, 'lose': False, 'rank': False, 'he': False, 'frequent': False, 'shitpost': False, 'ryan': False, 'cohen': False, 'chewi': False, 'left': False, 'r': False, 'u': False, 'talk': False, 'half': False, 'proce': False, 'appl': False, 'wellsfargo': False, 'recov': False, 'wilwood': False, 'fli': False, 'miata': False, 'stoptech': False, 'kit': False, 'target': False, 'truck': False, 'sens': False, 'sir': False, 'die': False, 'polar': False, 'what': False, 'fee': False, 'def': False, 'nta': False, 'care': False, 'anyon': False, 'babi': False, 'noth': False, 'dead': False, 'weight': False, 'freeload': False, 'thousand': False, 'approach': False, 'markit': False, 'gamma': False, 'httpsstreamablecomhkco': False, 'write': False, 'charg': False, 'fcking': False, 'phone': False, 'entir': False, 'countri': False, 'wrong': False, 'alon': False, 'believ': False, 'deserv': False, 'prophet': False, 'tuesday': False, 'diddi': False, 'eod': False, 'rgb': False, 'fan': False, 'sub': False, 'ghost': False, 'town': False, 'statist': False, 'trader': False, 'beat': False, 'sampp': False, 'highsyou': False, 'seem': False, 'inexperienc': False, 'serious': False, 'singl': False, 'expect': False, 'beyond': False, 'ridicul': False, 'funni': False, 'idk': False, 'supris': False, 'youv': False, 'unemploy': False, 'imagin': False, 'quit': False, 'name': False, 'whole': False, 'ordeal': False, 'life': False, 'harder': False, 'line': False, 'meet': False, 'yoy': False, 'acquir': False, 'monitor': False, 'theyv': False, 'incept': False, 'awesom': False, 'itll': False, 'due': False, 'text': False, 'must': False, 'charact': False, 'longi': False, 'action': False, 'perform': False, 'automat': False, 'contact': False, 'moder': False, 'subredditmessagecomposetorwallstreetbet': False, 'question': False, 'concern': False, 'okay': False, 'french': False, 'fri': False, 'fenc': False, 'accept': False, 'tank': False, 'gina': False, 'pfe': False, 'almost': False, 'smallcap': False, 'energi': False, 'jump': False, 'tell': False, 'outsid': False, 'weird': False, 'premarket': False, 'gap': False, 'game': False, 'upstream': False, 'news': False, 'senior': False, 'note': False, 'final': False, 'addit': False, 'deal': False, 'hand': False, 'muney': False, 'tho': False, 'behind': False, 'embrac': False, 'retarded': False, 'went': False, 'facebook': False, 'tail': False, 'announc': False, 'shop': False, 'shopifyi': False, 'buyingsel': False, 'sudden': False, 'dipsthat': False, 'egg': False, 'wash': False, 'dumpster': False, 'sincefuck': False, 'spac': False, 'tickl': False, 'hit': False, 'sustain': False, 'caus': False, 'dilut': False, 'equival': False, 'allot': False, 'still': False, 'higher': False, 'except': False, 'greed': False, 'flow': False, 'ngl': False, 'fun': False, 'frolick': False, 'underr': False, 'tlri': False, 'anyway': False, 'old': False, 'occasion': False, 'everyth': False, 'unsatisfi': False, 'wors': False, 'god': False, 'speed': False, 'brother': False, 'spend': False, 'rest': False, 'wretch': False, 'exist': False, 'place': False, 'anguish': False, 'suffer': False, 'ramcstocki': False, 'shun': False, 'disown': False, 'closest': False, 'learn': False, 'joke': False, 'theyr': False, 'actual': False, 'jerkoff': False, 'add': False, 'usual': False, 'despac': False, 'occur': False, 'quickli': False, 'salmon': False, 'yemen': False, 'okta': False, 'aggress': False, 'join': False, 'broke': False, 'edit': False, 'penni': False, 'minut': False, 'bring': False, 'trillion': False, 'instead': False, 'fearrrr': False, 'outmi': False, 'doubtwil': False, 'withoutani': False, 'effort': False, 'part': False, 'love': False, 'listen': False, 'screech': False, 'recruit': False, 'yep': False, 'bump': False, 'realiz': False, 'guess': False, 'transbear': False, 'binari': False, 'non': False, 'investor': False, 'wtf': False, 'pltr': False, 'gay': False, 'sex': False, 'ucashflow': False, 'everytim': False, 'id': False, 'godhatespoor': False, 'poorsgohom': False, 'poorsareratsgo': False, 'home': False, 'silli': False, 'gross': False, 'poor': False, 'enough': False, 'smelli': False, 'activist': False, 'investingif': False, 'arent': False, 'roll': False, 'stack': False, 'deep': False, 'belong': False, 'herecomanlospobr': False, 'ratsarepoory': False, 'rat': False, 'breakfast': False, 'lunch': False, 'amp': False, 'dinnerpoor': False, 'fridg': False, 'pp': False, 'pick': False, 'dunno': False, 'bet': False, 'moron': False, 'plan': False, 'connect': False, 'accumul': False, 'saturday': False, 'etrad': False, 'releas': False, 'clearli': False, 'clov': False, 'mvst': False, 'basuda': False, 'beauti': False, 'gme': False, 'dildo': False, 'destruct': False, 'sep': False, 'yellow': False, 'man': False, 'ever': False, 'dayoffic': False, 'thoughamerica': False, 'backward': False, 'super': False, 'fast': False, 'gnog': False, 'draft': False, 'king': False, 'whenev': False, 'finish': False, 'exp': False, 'open': False, 'subsid': False, 'purchas': False, 'p': False, 'tonight': False, 'antenna': False, 'ride': False, 'feel': False, 'pain': False, 'slap': False, 'shortli': False, 'ddxhttpswwwredditcomrwallstreetbetscommentspaqqskillzsklz': False, 'xhttpswwwredditcomrwallstreetbetscommentsotjbmqmicrovastmvst': False, 'xhttpswwwredditcomrwallstreetbetscommentsosklokmicrovastmvst': False, 'xhttpswwwredditcomrwallstreetbetscommentsosuvcmicrosoftmvst': False, 'xhttpswwwredditcomrwallstreetbetscommentsosuijmicrovastmvst': False, 'xhttpswwwredditcomrwallstreetbetscommentspvgarrivalarvl': False, 'xhttpswwwredditcomrwallstreetbetscommentspxaskillzsklz': False, 'xhttpswwwredditcomrwallstreetbetscommentsouwzmicrovastmvstevbatteri': False, 'xhttpswwwredditcomrwallstreetbetscommentsouiyxmicrovastmvst': False, 'yearscan': False, 'vix': False, 'basic': False, 'bad': False, 'broker': False, 'huge': False, 'heard': False, 'stocktwit': False, 'catalyst': False, 'pr': False, 'immin': False, 'amaz': False, 'unbeliev': False, 'mkt': False, 'cap': False, 'otc': False, 'strike': False, 'pm': False, 'avg': False, 'sometim': False, 'salad': False, 'dress': False, 'sdc': False, 'mar': False, 'moon': False, 'ju': False, 'perfectli': False, 'donda': False, 'yacht': False, 'club': False, 'latelyhttpsstreamablecomojtejz': False, 'dumbass': False, 'comparison': False, 'curv': False, 'shift': False, 'equiti': False, 'guarante': False, 'standard': False, 'alloc': False, 'etherum': False, 'fd': False, 'peopl': False, 'russian': False, 'roulett': False, 'street': False, 'retardand': False, 'want': False, 'true': False, 'sword': False, 'pull': False, 'lmao': False, 'boy': False, 'jpow': False, 'patent': False, 'printer': False, 'formula': False, 'ree': False, 'septembear': False, 'fauci': False, 'shut': False, 'economi': False, 'current': False, 'rival': False, 'ethiopia': False, 'reason': False, 'random': False, 'doctor': False, 'thingsalso': False, 'frontlin': False, 'mask': False, 'hcq': False, 'suprem': False, 'youd': False, 'mind': False, 'delight': False, 'jess': False, 'christ': False, 'oooooh': False, 'worst': False, 'favorit': False, 'version': False, 'thishttpsyoutubewiseuinahttpsyoutubewiseuinaalso': False, 'stream': False, 'gifemotefreeemotespacksunglass': False, 'kill': False, 'found': False, 'differ': False, 'sourc': False, 'sort': False, 'rather': False, 'save': False, 'colleg': False, 'park': False, 'crip': False, 'reppin': False, 'sndl': False, 'valid': False, 'spell': False, 'nah': False, 'ddaccount': False, 'stake': False, 'nake': False, 'microcap': False, 'garbag': False, 'honestli': False, 'faang': False, 'crowdstrik': False, 'prob': False, 'mid': False, 'hardwar': False, 'announcementsconfirm': False, 'inject': False, 'maximum': False, 'submit': False, 'gainlossyolo': False, 'larg': False, 'rule': False, 'fire': False, 'unnecessari': False, 'pictur': False, 'repost': False, 'useless': False, 'omit': False, 'ye': False, 'set': False, 'histori': False, 'laugh': False, 'sleepi': False, 'blame': False, 'mango': False, 'ok': False, 'rotat': False, 'fish': False, 'food': False, 'barefoot': False, 'stone': False, 'amazon': False, 'black': False, 'color': False, 'wide': False, 'clear': False, 'glass': False, 'palantir': False, 'wkh': False, 'aint': False, 'trick': False, 'poni': False, 'screen': False, 'special': False, 'design': False, 'asset': False, 'legal': False, 'deduct': False, 'tax': False, 'futur': False, 'ordinari': False, 'w': False, 'incom': False, 'row': False, 'limit': False, 'yearther': False, 'harvest': False, 'strategi': False, 'reduc': False, 'capit': False, 'dec': False, 'jan': False, 'later': False, 'appli': False, 'ver': False, 'sad': False, 'small': False, 'theta': False, 'win': False, 'dte': False, 'rn': False, 'contain': False, 'inform': False, 'avoid': False, 'editori': False, 'titl': False, 'requir': False, 'thread': False, 'mod': False, 'iti': False, 'bs': False, 'harvardbu': False, 'burn': False, 'school': False, 'slutti': False, 'ant': False, 'blow': False, 'upy': False, 'sound': False, 'yer': False, 'prolli': False, 'boof': False, 'night': False, 'tear': False, 'molli': False, 'zing': False, 'gotten': False, 'hill': False, 'fund': False, 'rebalanc': False, 'spce': False, 'pop': False, 'unmention': False, 'there': False, 'better': False, 'autist': False, 'smith': False, 'wesson': False, 'spark': False, 'withdraw': False, 'gl': False, 'root': False, 'bigger': False, 'hear': False, 'qs': False, 'tmrw': False, 'setup': False, 'recent': False, 'pre': False, 'subtract': False, 'expirationlook': False, 'vega': False, 'chain': False, 'histor': False, 'volatil': False, 'prior': False, 'event': False, 'multipli': False, 'percentag': False, 'approxim': False, 'valu': False, 'lost': False, 'crush': False, 'hous': False, 'live': False, 'citi': False, 'rh': False, 'opposit': False, 'major': False, 'fear': False, 'spoke': False, 'crash': False, 'predict': False, 'trash': False, 'ber': False, 'fact': False, 'wont': False, 'moment': False, 'float': False, 'ram': False, 'discord': False, 'group': False, 'spent': False, 'jak': False, 'crystal': False, 'meme': False, 'never': False, 'brought': False, 'product': False, 'appar': False, 'billboard': False, 'j': False, 'pow': False, 'bedroom': False, 'historian': False, 'ate': False, 'worri': False, 'bust': False, 'log': False, 'record': False, 'haha': False, 'uhno': False, 'relev': False, 'uncongrat': False, 'holder': False, 'phrase': False, 'crop': False, 'cryptocoin': False, 'exampl': False, 'sepcumbersepcumberb': False, 'cummin': False, 'cue': False, 'ccp': False, 'lie': False, 'winni': False, 'da': False, 'pooh': False, 'yearsscan': False, 'protect': False, 'monopolist': False, 'team': False, 'broadcast': False, 'suck': False, 'count': False, 'uptrend': False, 'cover': False, 'complet': False, 'fuckedit': False, 'havent': False, 'highsand': False, 'monthpleas': False, 'yt': False, 'channelpost': False, 'document': False, 'progress': False, 'hilari': False, 'unfold': False, 'ableism': False, 'analyst': False, 'project': False, 'choic': False, 'rais': False, 'main': False, 'misread': False, 'fomo': False, 'turn': False, 'ive': False, 'done': False, 'normal': False, 'complic': False, 'mile': False, 'reach': False, 'million': False, 'fals': False, 'pray': False, 'ground': False, 'quick': False, 'ev': False, 'pile': False, 'shiit': False, 'aaaand': False, 'collect': False, 'premium': False, 'weekli': False, 'pussi': False, 'wast': False, 'hood': False, 'usa': False, 'continu': False, 'butt': False, 'head': False, 'centuri': False, 'skin': False, 'someth': False, 'ttm': False, 'legaci': False, 'cost': False, 'unlik': False, 'automak': False, 'second': False, 'tauru': False, 'simpl': False, 'unless': False, 'align': False, 'horizon': False, 'crapshoot': False, 'httpsnypostcomjessicasimpsonbrandownerfilesforbankruptcyamp': False, 'bore': False, 'nft': False, 'gtmuffinpiei': False, 'pace': False, 'bare': False, 'spam': False, 'domain': False, 'earlycovidstudycom': False, 'less': False, 'quarter': False, 'act': False, 'netflix': False, 'huh': False, 'yike': False, 'omin': False, 'kinda': False, 'young': False, 'appreci': False, 'advic': False, 'yea': False, 'drawdown': False, 'pumper': False, 'hodlershowev': False, 'breath': False, 'damn': False, 'unpredict': False, 'insid': False, 'lolov': False, 'juici': False, 'jack': False, 'ur': False, 'feet': False, 'etf': False, 'nasdaq': False, 'httpsiimgurcomamsfkvjjpg': False, 'probli': False, 'cheaper': False, 'googl': False, 'implement': False, 'fit': False, 'function': False, 'smart': False, 'fitbit': False, 'plenti': False, 'tech': False, 'giant': False, 'peloton': False, 'preexist': False, 'subscript': False, 'web': False, 'definit': False, 'nobodi': False, 'possibl': False, 'beg': False, 'neighbor': False, 'beer': False, 'wifi': False, 'ripgifemotefreeemotespackjoy': False, 'di': False, 'espn': False, 'sport': False, 'shitti': False, 'reed': False, 'send': False, 'uzjz': False, 'verif': False, 'forgot': False, 'umbrella': False, 'todayil': False, 'answer': False, 'dyslex': False, 'walk': False, 'bra': False, 'underpr': False, 'sector': False, 'si': False, 'boggl': False, 'vax': False, 'snotnos': False, 'fucker': False, 'dayspeak': False, 'potenti': False, 'dayampxbif': False, 'upsid': False, 'moassbreak': False, 'number': False, 'grow': False, 'upgrad': False, 'brake': False, 'weigh': False, 'pound': False, 'throwaway': False, 'dad': False, 'incel': False, 'joy': False, 'reaction': False, 'obvious': False, 'owe': False, 'level': False, 'volum': False, 'ooooo': False, 'shouldnt': False, 'mill': False, 'hedgi': False, 'empti': False, 'port': False, 'agre': False, 'full': False, 'grand': False, 'amzn': False, 'hello': False, 'flag': False, 'camera': False, 'technic': False, 'microscop': False, 'fair': False, 'b': False, 'resolv': False, 'wouldnt': False, 'alot': False, 'develop': False, 'min': False, 'setback': False, 'size': False, 'etcalso': False, 'allow': False, 'mix': False, 'residenti': False, 'commerci': False, 'httpsimgurcomawxlyl': False, 'destroy': False, 'caviar': False, 'whatev': False, 'auto': False, 'pilot': False, 'explain': False, 'logic': False, 'dr': False, 'spock': False, 'voic': False, 'fuckkk': False, 'despit': False, 'ushutupdigit': False, 'hardufayd': False, 'costum': False, 'uwu': False, 'type': False, 'activ': False, 'immedi': False, 'prime': False, 'est': False, 'tape': False, 'tda': False, 'peasant': False, 'curiou': False, 'deem': False, 'boomer': False, 'mention': False, 'rapidli': False, 'broaden': False, 'scope': False, 'badg': False, 'honor': False, 'air': False, 'theme': False, 'song': False, 'congrat': False, 'assholewa': False, 'pton': False, 'overcom': False, 'zm': False, 'speak': False, 'suppos': False, 'gt': False, 'octopu': False, 'swallow': False, 'lump': False, 'cool': False, 'hose': False, 'lift': False, 'hourstheyv': False, 'driven': False, 'hundr': False, 'beta': False, 'test': False, 'relat': False, 'vehicl': False, 'specul': False, 'clone': False, 'mayb': False, 'bunch': False, 'insan': False, 'runup': False, 'page': False, 'bagger': False, 'round': False, 'order': False, 'ampxbhttpsimgurcomadmswwmhttpsimgurcomadmswwm': False, 'compar': False, 'rivian': False, 'bil': False, 'eval': False, 'golf': False, 'novemb': False, 'gather': False, 'requisit': False, 'rstock': False, 'nope': False, 'porridg': False, 'ls': False, 'hype': False, 'granni': False, 'cri': False, 'panic': False, 'attack': False, 'seek': False, 'profession': False, 'help': False, 'rocket': False, 'emoji': False, 'excel': False, 'term': False, 'barrier': False, 'english': False, 'teacher': False, 'gs': False, 'default': False, 'swap': False, 'crap': False, 'mbss': False, 'pedal': False, 'wreck': False, 'sloppi': False, 'matter': False, 'other': False, 'sign': False, 'daddi': False, 'documentari': False, 'havnt': False, 'shhh': False, 'cathi': False, 'proven': False, 'inde': False, 'vegan': False, 'plant': False, 'base': False, 'yet': False, 'brand': False, 'vegetarian': False, 'dish': False, 'thereno': False, 'usp': False, 'financi': False, 'competitor': False, 'stronger': False, 'reasoni': False, 'multipl': False, 'ttch': False, 'perhap': False, 'ppl': False, 'robinhood': False, 'ampm': False, 'reddit': False, 'pampd': False, 'imma': False, 'swing': False, 'portion': False, 'benefit': False, 'leg': False, 'fukin': False, 'delicaci': False, 'salt': False, 'pepper': False, 'cat': False, 'pajama': False, 'chines': False, 'ed': False, 'fda': False, 'approv': False, 'cut': False, 'pipe': False, 'dream': False, 'exagger': False, 'trigger': False, 'nkla': False, 'bogu': False, 'bank': False, 'earli': False, 'rebought': False, 'ampxbhop': False, 'govern': False, 'kidnap': False, 'founder': False, 'alibaba': False, 'poorli': False, 'communist': False, 'parti': False, 'longer': False, 'involv': False, 'httpsyoutubeectaauweu': False, 'faith': False, 'violat': False, 'blood': False, 'selfpost': False, 'album': False, 'europ': False, 'nio': False, 'crwd': False, 'melt': False, 'bless': False, 'lock': False, 'load': False, 'adp': False, 'payrol': False, 'fomc': False, 'thursday': False, 'nonfarm': False, 'tradit': False, 'sandwich': False, 'vol': False, 'circuit': False, 'breaker': False, 'ghey': False, 'immens': False, 'proud': False, 'front': False, 'stroke': False, 'geniu': False, 'masochist': False, 'prepar': False, 'adequ': False, 'hyperinfl': False, 'cite': False, 'weimar': False, 'republ': False, 'pretend': False, 'linear': False, 'hint': False, 'disastr': False, 'venezuelaweimar': False, 'realist': False, 'aliv': False, 'perfect': False, 'consumerssav': False, 'seriou': False, 'afford': False, 'roller': False, 'coaster': False, 'teva': False, 'baghold': False, 'sale': False, 'fwd': False, 'smoke': False, 'blaster': False, 'meth': False, 'tingl': False, 'sun': False, 'shine': False, 'brightli': False, 'anddddd': False, 'leather': False, 'seat': False, 'cold': False, 'lat': False, 'tpday': False, 'surpris': False, 'spin': False, 'wed': False, 'spoil': False, 'chime': False, 'sofi': False, 'wednesday': False, 'errrmmm': False, 'dude': False, 'lightn': False, 'closer': False, 'advantag': False, 'ford': False, 'aluminum': False, 'cab': False, 'box': False, 'difficult': False, 'build': False, 'obsess': False, 'experi': False, 'onto': False, 'establish': False, 'exit': False, 'monthscan': False, 'mental': False, 'health': False, 'asylum': False, 'presid': False, 'contrarian': False, 'acquisit': False, 'amcc': False, 'boun': False, 'bang': False, 'fat': False, 'chwi': False, 'grrr': False, 'mooooon': False, 'upvot': False, 'greendownvot': False, 'coyot': False, 'trailer': False, 'jefferson': False, 'missouri': False, 'soda': False, 'thatw': False, 'perma': False, 'five': False, 'august': False, 'flat': False, 'ittomorrow': False, 'celebr': False, 'orgi': False, 'aim': False, 'disappoint': False, 'thembr': False, 'fairli': False, 'heavi': False, 'curl': False, 'physic': False, 'item': False, 'exchang': False, 'reus': False, 'tryna': False, 'gambl': False, 'bankruptci': False, 'strong': False, 'margin': False, 'unhappi': False, 'grat': False, 'strikei': False, 'bake': False, 'er': False, 'unfortun': False, 'edith': False, 'water': False, 'period': False, 'settlement': False, 'rose': False, 'bail': False, 'paperhand': False, 'coward': False, 'bb': False, 'bulldog': False, 'ugh': False, 'noto': False, 'knowledg': False, 'vast': False, 'diet': False, 'strength': False, 'link': False, 'insuffici': False, 'review': False, 'follow': False, 'resubmittingpleas': False, 'abus': False, 'lead': False, 'bannedsubmiss': False, 'guidehttpswwwredditcomrwallstreetbetswikilinkflairhow': False, 'conduct': False, 'ddhttpswwwwallstreetoasiscomforumsonthejobwithsimpleasmyresearchprocessi': False, 'ticker': False, 'nakd': False, 'billionish': False, 'cryptopenniesotcspac': False, 'espncomdraftk': False, 'redirect': False, 'broken': False, 'fuckin': False, 'wut': False, 'throat': False, 'punch': False, 'vm': False, 'decid': False, 'econom': False, 'prestigi': False, 'defin': False, 'social': False, 'gf': False, 'bit': False, 'httpswwwredditcomrwallstreetbetscommentspfxeeoptionsarenotfornewinvestorshttpswwwredditcomrwallstreetbetscommentspfxeeoptionsarenotfornewinvestor': False, 'himi': False, 'massiv': False, 'namehow': False, 'ki': False, 'came': False, 'ton': False, 'idiot': False, 'lmaogo': False, 'ahead': False, 'inherit': False, 'recoveri': False, 'slqt': False, 'oscr': False, 'him': False, 'seemingli': False, 'bottom': False, 'cautiou': False, 'christma': False, 'eve': False, 'sear': False, 'improv': False, 'batteri': False, 'bullshit': False, 'delay': False, 'fud': False, 'argu': False, 'smarter': False, 'career': False, 'told': False, 'afternoon': False, 'dp': False, 'bearish': False, 'defens': False, 'sidelin': False, 'vigor': False, 'cock': False, 'semi': False, 'chub': False, 'whack': False, 'chaf': False, 'insur': False, 'mast': False, 'hooker': False, 'bounc': False, 'suit': False, 'blacknot': False, 'awar': False, 'stuff': False, 'simplehuman': False, 'trashcan': False, 'dispensor': False, 'oxo': False, 'shelf': False, 'liner': False, 'hostil': False, 'weapon': False, 'exactli': False, 'america': False, 'laid': False, 'saw': False, 'bynd': False, 'trademark': False, 'registr': False, 'milk': False, 'mcdonald': False, 'custom': False, 'anim': False, 'plt': False, 'conveni': False, 'drunk': False, 'store': False, 'psych': False, 'productsand': False, 'theyd': False, 'sausag': False, 'mcmuffin': False, 'patti': False, 'unreal': False, 'hot': False, 'cake': False, 'airlin': False, 'travel': False, 'borrow': False, 'seller': False, 'stand': False, 'retail': False, 'leverag': False, 'correct': False, 'thano': False, 'snap': False, 'space': False, 'cosmic': False, 'converg': False, 'overnight': False, 'storm': False, 'cuz': False, 'ida': False, 'deliveri': False, 'rain': False, 'support': False, 'soft': False, 'peak': False, 'stochast': False, 'harmon': False, 'isol': False, 'lower': False, 'consolid': False, 'span': False, 'decis': False, 'exact': False, 'postearn': False, 'anywher': False, 'began': False, 'star': False, 'ascend': False, 'shite': False, 'afraid': False, 'who': False, 'surf': False, 'momentum': False, 'homework': False, 'chenier': False, 'fyi': False, 'weve': False, 'permaban': False, 'sectionhttpswwwredditcomrwallstreetbetscommentspfajepricetargetforridelordstownbasedonwhathbldgutmmediumandroidappamputmsourceshareampcontext': False, 'horoscop': False, 'astrolog': False, 'meat': False, 'popsicl': False, 'specifi': False, 'tard': False, 'bearishabsolut': False, 'meaning': False, 'clean': False, 'qnx': False, 'os': False, 'nearli': False, 'manufactuer': False, 'pubm': False, 'boi': False, 'favor': True, 'xi': False, 'rid': False, 'oil': False, 'depend': False, 'firm': False, 'highli': False, 'nation': False, 'oppos': False, 'lithium': False, 'valuat': False, 'global': False, 'villain': False, 'grown': False, 'movi': False, 'neat': False, 'tool': False, 'chanc': False, 'whoop': False, 'cent': False, 'agothi': False, 'direct': False, 'sweeti': False, 'normi': False, 'waitto': False, 'aye': False, 'booyah': False, 'chillman': False, 'underv': False, 'upcovid': False, 'oldz': False, 'fatz': False, 'condit': False, 'scream': False, 'confid': False, 'becom': False, 'goal': False, 'wild': False, 'upset': False, 'clock': False, 'danc': False, 'clockwork': False, 'msft': False, 'steal': False, 'goddamn': False, 'moneyit': False, 'nearconst': False, 'upward': False, 'movement': False, 'respect': False, 'nokia': False, 'rudimentari': False, 'ad': False, 'coupl': False, 'lowest': False, 'biggest': False, 'lesson': False, 'q': False, 'portfolio': False, 'accur': False, 'control': False, 'experienc': False, 'runaway': False, 'growth': False, 'rli': False, 'bewar': False, 'hors': False, 'crater': False, 'yessiiiir': False, 'charter': False, 'novn': False, 'backkkkkkkk': False, 'inclin': False, 'sank': False, 'mgm': False, 'buyout': False, 'date': False, 'liketh': False, 'avail': False, 'ibd': False, 'caveat': False, 'repres': False, 'data': False, 'offici': False, 'sec': False, 'factand': False, 'coverbut': False, 'cousin': False, 'buffet': False, 'bearshttpsimgurcomajwriqt': False, 'disagre': False, 'offend': False, 'drum': False, 'vote': False, 'tag': False, 'elon': False, 'musk': False, 'halt': False, 'durat': False, 'fiscal': False, 'overvalu': False, 'straight': False, 'drainsyou': False, 'onlin': False, 'site': False, 'track': False, 'daili': False, 'hv': False, 'ivi': False, 'math': False, 'signific': False, 'chip': False, 'mice': False, 'chill': False, 'mold': False, 'plastic': False, 'button': False, 'click': False, 'felthttpswwwyoutubecomwatchvvwiidzrvvdc': False, 'biden': False, 'tallybaun': False, 'tomorrowedit': False, 'csim': False, 'manli': False, 'doom': False, 'packag': False, 'uvxi': False, 'spread': False, 'sqqq': False, 'huff': False, 'paint': False, 'thinner': False, 'knock': False, 'demand': False, 'will': False, 'fall': False, 'callsput': False, 'ttcf': False, 'blue': False, 'tellurian': False, 'dipaka': False, 'spike': False, 'redo': False, 'covid': False, 'zero': False, 'common': False, 'era': False, 'fewer': False, 'word': False, 'nahhhh': False, 'otherwis': False, 'children': False, 'meant': False, 'cnbc': False, 'cramer': False, 'rip': False, 'orchestr': False, 'file': False, 'complaint': False, 'uranium': False, 'monthli': False, 'fergi': False, 'rihanna': False, 'gwen': False, 'sheffi': False, 'scenario': False, 'busi': False, 'struggl': False, 'quota': False, 'lightli': False, 'invest': False, 'wipe': False, 'billion': False, 'goldman': False, 'sach': False, 'war': False, 'sbux': False, 'am': False, 'mu': False, 'nke': False, 'disappear': False, 'escal': False, 'stori': False, 'sang': False, 'highest': False, 'mara': False, 'gordon': False, 'gekko': False, 'sensibl': False, 'parent': False, 'birthdaytoday': False, 'cringi': False, 'bloomer': False, 'award': False, 'naa': False, 'decemb': False, 'crab': False, 'plate': False, 'selffulfil': False, 'summer': False, 'sheesh': False, 'vice': False, 'legend': False, 'fundament': False, 'anymor': False, 'lfg': False, 'bleed': False, 'commenc': False, 'welcom': False, 'rkt': False, 'net': False, 'ebitda': False, 'reit': False, 'carri': False, 'cci': False, 'amt': False, 'uniti': False, 'peer': False, 'atleast': False, 'consecut': False, 'bed': False, 'ultim': False, 'quarantin': False, 'vaccin': False, 'backfir': False, 'plz': False, 'figur': False, 'somebodi': False, 'deeper': False, 'inch': False, 'boner': False, 'tme': False, 'astr': False, 'wake': False, 'hibern': False, 'wealth': False, 'naiv': False, 'realiti': False, 'condo': False, 'mortgag': False, 'rent': False, 'wing': False, 'shortag': False, 'push': False, 'thigh': False, 'enw': False, 'appear': False, 'rang': False, 'tie': False, 'asshat': False, 'algn': False, 'ulehmanparti': False, 'dog': False, 'septemberiswhenmostmarriedwomenbreakupwiththeirboyfriendsprovidingthehighestprobabilitymonthinrekindlingtheirmarriagelmao': False, 'uh': False, 'weed': False, 'shouldv': False, 'g': False, 'cellular': False, 'broadband': False, 'planet': False, 'combin': False, 'model': False, 'revenu': False, 'telcom': False, 'slander': False, 'cell': False, 'bout': False, 'flash': False, 'perceiv': False, 'mark': False, 'handbag': False, 'none': False, 'court': False, 'fight': False, 'artest': False, 'bright': False, 'absurb': False, 'basher': False, 'gift': False, 'finger': False, 'gun': False, 'wendi': False, 'kiddo': False, 'comeback': False, 'wood': False, 'jr': False, 'malic': False, 'palac': False, 'pacer': False, 'justifi': False, 'detroit': False, 'trust': False, 'chartsdoubl': False, 'bullish': False, 'hasnt': False, 'miracl': False, 'element': False, 'festiv': False, 'lakewood': False, 'pa': False, 'fucken': False, 'son': False, 'taken': False, 'plane': False, 'thatd': False, 'abandon': False, 'taliban': False, 'hair': False, 'awak': False, 'sooner': False, 'american': False, 'confus': False, 'fine': False, 'goo': False, 'corsair': False, 'epic': False, 'congratul': False, 'kept': False, 'tune': False, 'mutual': False, 'exclus': False, 'ithttpsyoutubeoqlliedwu': False, 'capitul': False, 'extrem': False, 'gifemotefreeemotespackmoneyfac': False, 'initi': False, 'calcul': False, 'chancesold': False, 'httpsimgurcomalurewhttpsimgurcomalurewsold': False, 'httpsimgurcomabykjdhttpsimgurcomabykjdbought': False, 'httpswwwredditcomrwallstreetbetscommentsnqifdailydiscussionthreadforjunehavffkcontexthttpswwwredditcomrwallstreetbetscommentsnqifdailydiscussionthreadforjunehavffkcontexther': False, 'httpswwwredditcomrwallstreetbetscommentsndwkwhatareyourmovestomorrowmaygyfvuucontexthttpswwwredditcomrwallstreetbetscommentsndwkwhatareyourmovestomorrowmaygyfvuucontextcertain': False, 'httpsprntscqmvhttpsprntscqmvsold': False, 'httpsprntscqmroqthttpsprntscqmroqtwanna': False, 'gotchu': False, 'mood': False, 'smile': False, 'either': False, 'mammoth': False, 'lucki': False, 'particip': False, 'ponzi': False, 'scheme': False, 'certainli': False, 'women': False, 'sharehold': False, 'extra': False, 'centric': False, 'qqq': False, 'presenc': False, 'felt': False, 'mm': False, 'oi': False, 'millionim': False, 'buyer': False, 'whoever': False, 'bond': False, 'directli': False, 'circul': False, 'applic': False, 'mini': False, 'copium': False, 'reli': False, 'fruit': False, 'tree': False, 'bee': False, 'secur': False, 'fail': False, 'silver': False, 'eoy': False, 'confirm': False, 'draftk': False, 'visit': False, 'local': False, 'beach': False, 'stimul': False, 'sauc': False, 'diamond': False, 'intimid': False, 'grandma': False, 'cooki': False, 'afghanistan': False, 'wave': False, 'fake': False, 'clown': False, 'wouldv': False, 'budi': False, 'docusign': False, 'prog': False, 'outcom': False, 'diversifi': False, 'opinion': False, 'hustl': False, 'l': False, 'react': False, 'determin': False, 'consist': False, 'microsoft': False, 'couldnt': False, 'articleit': False, 'import': False, 'articl': False, 'reader': False, 'contribut': False, 'discuss': False, 'mannerif': False, 'paywal': False, 'servic': False, 'archiveorghttpsarchiveorg': False, 'archiveishttparchivei': False, 'bypass': False, 'geeztalk': False, 'hang': False, 'among': False, 'profoundli': False, 'kdp': False, 'snappl': False, 'chyna': False, 'scari': False, 'httpsiimgurcomqkggyjpg': False, 'sharesim': False, 'desktop': False, 'insert': False, 'invers': False, 'headquart': False, 'key': False, 'origin': False, 'institut': False, 'regulatori': False, 'brokerag': False, 'paper': False, 'squoz': False, 'expiri': False, 'gold': False, 'label': False, 'irish': False, 'whiskey': False, 'cure': False, 'men': False, 'known': False, 'ailment': False, 'british': False, 'oversea': False, 'territori': False, 'godspe': False, 'tv': False, 'mutat': False, 'variant': False, 'detect': False, 'south': False, 'africa': False, 'greenest': False, 'delta': False, 'mathsvega': False, 'impact': False, 'bbig': False, 'girl': False, 'cs': False, 'undergrad': False, 'optionsvix': False, 'climb': False, 'drunken': False, 'boxer': False, 'mode': False, 'treat': False, 'appointedhir': False, 'system': False, 'spotifi': False, 'industri': False, 'turnov': False, 'crunch': False, 'cultur': False, 'naughti': False, 'along': False, 'clutch': False, 'nail': False, 'side': False, 'lord': False, 'forgiv': False, 'girlfriend': False, 'memestock': False, 'ideq': False, 'selloff': False, 'jebait': False, 'built': False, 'garag': False, 'replac': False, 'race': False, 'endur': False, 'luxuri': False, 'constantli': False, 'lack': False, 'shamefulampxbedit': False, 'mother': False, 'boyfriend': False, 'drivethru': False, 'divers': False, 'woaw': False, 'gucci': False, 'bike': False, 'giffen': False, 'app': False, 'wet': False, 'ayyyi': False, 'gospi': False, 'iron': False, 'finder': False, 'swim': False, 'proper': False, 'vent': False, 'lookse': False, 'triangleswher': False, 'happi': False, 'stick': False, 'gamer': False, 'older': False, 'crowd': False, 'httpsgamesskillzcomgamehttpsgamesskillzcomgam': False, 'clap': False, 'inton': False, 'bubbl': False, 'fuk': False, 'germani': False, 'bayern': False, 'saxoni': False, 'nostalg': False, 'yot': False, 'cross': False, 'she': False, 'younger': False, 'crazi': False, 'updat': False, 'profil': False, 'pic': False, 'photo': False, 'turk': False, 'caico': False, 'brag': False, 'whip': False, 'homi': False, 'sour': False, 'csjan': False, 'absurd': False, 'upanicylemur': False, 'proceed': False, 'ext': False, 'program': False, 'graph': False, 'critic': False, 'pointsprofit': False, 'educ': False, 'manner': False, 'cboe': False, 'train': False, 'to': False, 'overli': False, 'lt': False, 'paypalup': False, 'todaydont': False, 'intend': False, 'rsi': False, 'minim': False, 'heaven': False, 'iowa': False, 'sowhat': False, 'recommend': False, 'woah': False, 'swear': False, 'postfda': False, 'casual': False, 'ddxhttpswwwredditcomrwallstreetbetscommentslnhstillholdinggmeandamcbutthismightb': False, 'crack': False, 'previou': False, 'indic': False, 'especi': False, 'ration': False, 'face': False, 'disallow': False, 'static': False, 'strongli': False, 'qualiti': False, 'rwallstreetbetshot': False, 'moderatorsi': False, 'feedif': False, 'automod': False, 'guid': False, 'userhttpswwwredditcomrwallstreetbetswikiapprovedusersandyachtclubthank': False, 'golden': False, 'greeni': False, 'refer': False, 'lmaaoooo': False, 'tencent': False, 'music': False, 'poppin': False, 'video': False, 'across': False, 'nowjackson': False, 'corneliu': False, 'maximu': False, 'rd': False, 'hahaha': False, 'httpswwwinvestopediacomaskanswersseptworstmonthasp': False, 'ring': False, 'bell': False, 'sheep': False, 'succeed': False, 'togeth': False, 'toward': False, 'duck': False, 'snif': False, 'highsperson': False, 'remain': False, 'opportun': False, 'state': False, 'solv': False, 'ray': False, 'dalio': False, 'ky': False, 'hr': False, 'sideway': False, 'lofti': False, 'healthi': False, 'ez': False, 'switch': False, 'truli': False, 'sam': False, 'strap': False, 'secret': False, 'success': False, 'bbbi': False, 'fetch': False, 'blind': False, 'catch': False, 'ultium': False, 'produc': False, 'pouch': False, 'cylindr': False, 'besid': False, 'lmc': False, 'bolt': False, 'kona': False, 'edg': False, 'st': False, 'motherfuck': False, 'hahahahah': False, 'bender': False, 'overus': False, 'metric': False, 'advanc': False, 'thesi': False, 'dck': False, 'forward': False, 'lastcoupl': False, 'gasp': False, 'pitchfork': False, 'effici': False, 'shovel': False, 'heheh': False, 'coal': False, 'gener': False, 'motor': False, 'valuabl': False, 'pseudo': False, 'monopoli': False, 'network': False, 'effect': False, 'fragment': False, 'maker': False, 'natur': False, 'resourc': False, 'copper': False, 'bhp': False, 'billiton': False, 'freeport': False, 'capabl': False, 'consumpt': False, 'materi': False, 'originhttpswwwredditcomrchoosingbeggarscommentskrasineedafreemilebustripforpeopleand': False, 'hover': False, 'easier': False, 'daytrad': False, 'dang': False, 'congratzhttpsnypostcomreddituserapparentlypredictsamazonaffirmd': False, 'daylet': False, 'goooo': False, 'subscrib': False, 'dm': False, 'rich': False, 'white': False, 'miami': False, 'cocain': False, 'httpsyoutubecjytgrgaftq': False, 'builtdiffer': False, 'misunderstood': False, 'ight': False, 'koolaid': False, 'slut': False, 'doubt': False, 'theyll': False, 'compet': False, 'coloss': False, 'playerand': False, 'frankli': False, 'piti': False, 'iwm': False, 'solut': False, 'favourit': False, 'gearbox': False, 'differenti': False, 'notsuspend': False, 'mass': False, 'car': False, 'behav': False, 'brick': False, 'terrain': False, 'mike': False, 'kohr': False, 'cring': False, 'youtub': False, 'channel': False, 'draw': False, 'analysi': False, 'cto': False, 'nikola': False, 'awhil': False, 'troll': False, 'unvacinn': False, 'sever': False, 'research': False, 'vacinn': False, 'limp': False, 'bloat': False, 'piec': False, 'situat': False, 'anytim': False, 'ivdelta': False, 'ralli': False, 'ish': False, 'danger': False, 'stonewal': False, 'exercis': False, 'settl': False, 'soedit': False, 'fluctuat': False, 'bidask': False, 'bid': False, 'influenc': False, 'donald': False, 'tump': False, 'pl': False, 'zelda': False, 'bluechip': False, 'acb': False, 'skeptic': False, 'powerbal': False, 'myth': False, 'till': False, 'buck': False, 'taught': False, 'leapstomorrow': False, 'lmfao': False, 'reject': False, 'tast': False, 'lion': False, 'kettl': False, 'jp': False, 'morgan': False, 'chase': False, 'spade': False, 'dongu': False, 'nerd': False, 'taco': False, 'tuesdayi': False, 'alcohol': False, 'awww': False, 'slow': False, 'hysteria': False, 'brrrr': False, 'brrr': False, 'troubl': False, 'trap': False, 'ayee': False, 'goooooo': False, 'unighthawk': False, 'jersey': False, 'satisfi': False, 'timesdid': False, 'often': False, 'coincid': False, 'sparkl': False, 'sailor': False, 'larger': False, 'regular': False, 'pork': False, 'anyth': False, 'nacho': False, 'ramen': False, 'dri': False, 'powder': False, 'pornhttpstwittercomriskreversalstatu': False, 'boxl': False, 'yell': False, 'loos': False, 'drug': False, 'miser': False, 'complain': False, 'undermin': False, 'attempt': False, 'allevi': False, 'widen': False, 'disput': False, 'context': False, 'paypal': False, 'nonsens': False, 'room': False, 'yessir': False, 'mine': False, 'upsw': False, 'sharestemberi': False, 'hobbi': False, 'lcid': False, 'rnhttpsctenorcomzuwtvblksaaaactitanictitanicorchestragif': False, 'fb': False, 'frik': False, 'bald': False, 'evil': False, 'step': False, 'militari': False, 'quad': False, 'witch': False, 'quarterli': False, 'ujosh': False, 'plethora': False, 'poop': False, 'plummet': False, 'bum': False, 'jesu': False, 'pc': False, 'latest': False, 'psu': False, 'meanwhil': False, 'peripher': False, 'headsetsteelseri': False, 'logitech': False, 'longest': False, 'repeat': False, 'kamikaz': False, 'noon': False, 'rippi': False, 'notic': False, 'taint': False, 'shell': False, 'ownership': False, 'recogn': False, 'ladi': False, 'winner': False, 'unit': False, 'sovereign': False, 'estat': False, 'everywher': False, 'explan': False, 'elabor': False, 'ucpttonystark': False, 'uchieftyfifti': False, 'ugoldphih': False, 'blunt': False, 'downtrend': False, 'grind': False, 'overbought': False, 'safest': False, 'titti': False, 'nbd': False, 'prosper': False, 'httpscurrentmarketvaluationcommodelsbuffettindicatorphpalso': False, 'shutdown': False, 'factor': False, 'mindless': False, 'undervalu': False, 'broyour': False, 'blew': False, 'tradesmi': False, 'forget': False, 'aroundof': False, 'fallen': False, 'mismanag': False, 'closur': False, 'unprofit': False, 'divestur': False, 'rise': False, 'comp': False, 'vs': False, 'digit': False, 'buyback': False, 'revenueshar': False, 'twice': False, 'nowa': False, 'downmargin': False, 'mess': False, 'trough': False, 'ebit': False, 'evsal': False, 'evebitdath': False, 'assum': False, 'acceler': False, 'begrudg': False, 'lil': False, 'wrinkl': False, 'russia': False, 'viz': False, 'integraotr': False, 'manufacturersamsung': False, 'micron': False, 'hynix': False, 'comapni': False, 'manufactur': False, 'comput': False, 'organ': False, 'crayon': False, 'desper': False, 'h': False, 'nd': False, 'brat': False, 'wrotegtit': False, 'light': False, 'todayedit': False, 'increment': False, 'fella': False, 'arrow': False, 'gtee': False, 'falseexactli': False, 'mileag': False, 'drive': False, 'waffl': False, 'civil': False, 'apocalyps': False, 'herbalif': False, 'coke': False, 'tom': False, 'lee': False, 'bruh': False, 'lb': False, 'rep': False, 'max': False, 'within': False, 'simp': False, 'mom': False, 'cw': False, 'hook': False, 'gram': False, 'advisor': False, 'eow': False, 'retart': False, 'porn': False, 'markethow': False, 'maybei': False, 'sampl': False, 'argument': False, 'beem': False, 'httpswwwyoutubecomwatchvqugfpoyoamptshttpswwwyoutubecomwatchvqugfpoyoampt': False, 'focu': False, 'fresh': False, 'restart': False, 'amass': False, 'impress': False, 'bcrx': False, 'grant': False, 'machin': False, 'coincident': False, 'gifemotefreeemotespacktrollfac': False, 'hodl': False, 'evict': False, 'payout': False, 'rainbow': False, 'callsxl': False, 'motion': False, 'heng': False, 'seng': False, 'minu': False, 'rfoundthemobileus': False, 'fix': False, 'safe': False, 'investmentsim': False, 'four': False, 'ho': False, 'cigar': False, 'newspap': False, 'den': False, 'chuckl': False, 'respons': False, 'insight': False, 'rinvest': False, 'male': False, 'platon': False, 'relationship': False, 'attract': False, 'interpret': False, 'horni': False, 'mebut': False, 'domin': False, 'view': False, 'suggest': False, 'femal': False, 'friendhttpswwwscientificamericancomarticlemenandwomencantbejustfriendsi': False, 'cynic': False, 'ulterior': False, 'motiv': False, 'biolog': False, 'born': False, 'fute': False, 'excus': False, 'restaur': False, 'mister': False, 'isint': False, 'yeaaa': False, 'dosent': False, 'wil': False, 'fleet': False, 'imo': False, 'evaceee': False, 'guidanc': False, 'confer': False, 'provid': False, 'boost': False, 'sharia': False, 'compliant': False, 'logi': False, 'underdog': False, 'shitadel': False, 'trump': False, 'blast': False, 'indicomeoth': False, 'indigo': False, 'jerom': False, 'dinner': False, 'yachti': False, 'peleton': False, 'bidu': False, 'sickhow': False, 'mortal': False, 'somth': False, 'pissshit': False, 'pant': False, 'dispos': False, 'underwearthi': False, 'rnurs': False, 'unateri': False, 'index': False, 'pocket': False, 'keister': False, 'deliri': False, 'explod': False, 'knowm': False, 'smash': False, 'baton': False, 'declin': False, 'commi': False, 'gulag': False, 'cronni': False, 'intern': False, 'attent': False, 'feelsbadman': False, 'peanut': False, 'forc': False, 'butter': False, 'jelli': False, 'crust': False, 'boom': False, 'verb': False, 'dart': False, 'wall': False, 'abort': False, 'squuez': False, 'ugli': False, 'wheel': False, 'thingi': False, 'flachkoepp': False, 'spoken': False, 'northern': False, 'dialect': False, 'escap': False, 'thai': False, 'worthless': False, 'cc': False, 'rough': False, 'goat': False, 'wen': False, 'loan': False, 'tough': False, 'mortar': False, 'magic': False, 'sight': False, 'wear': False, 'helmet': False, 'roughli': False, 'kick': False, 'player': False, 'unlimit': False, 'thoughfor': False, 'virtuou': False, 'cycl': False, 'newrez': False, 'colorado': False, 'scott': False, 'kennedi': False, 'mreit': False, 'nrz': False, 'thoroughli': False, 'list': False, 'accord': False, 'fintel': False, 'lone': False, 'uncl': False, 'walt': False, 'peni': False, 'fml': False, 'anteat': False, 'tip': False, 'sky': False, 'toilet': False, 'butthol': False, 'unusu': False, 'fukkin': False, 'bf': False, 'straighten': False, 'grade': False, 'instruct': False, 'unclear': False, 'uniqu': False, 'succe': False, 'deliv': False, 'necessari': False, 'theori': False, 'usernam': False, 'platform': False, 'monday': False, 'lambo': False, 'steak': False, 'hoodrat': False, 'sewer': False, 'intensifi': False, 'mostth': False, 'pure': False, 'badli': False, 'howev': False, 'strengthen': False, 'environ': False, 'sick': False, 'tire': False, 'postcovid': False, 'backlash': False, 'userfriendli': False, 'bud': True, 'dirti': False, 'fault': False, 'yummmm': False, 'indian': False, 'rooki': False, 'gif': False, 'galleri': False, 'info': False, 'repo': False, 'nordstrum': False, 'pinch': False, 'testicl': False, 'wbi': False, 'irdm': False, 'sp': False, 'resist': False, 'skillz': False, 'harsh': False, 'execut': False, 'famili': False, 'deadli': False, 'fentanyl': False, 'retir': False, 'ideal': False, 'whore': False, 'renmimnbi': False, 'rmb': False, 'spxl': False, 'met': False, 'gave': False, 'thetagang': False, 'givin': False, 'preview': False, 'stapl': False, 'partner': False, 'sentenc': False, 'uswhat': False, 'vehiclesat': False, 'kvehicl': False, 'pension': False, 'riskier': False, 'redact': False, 'eth': False, 'middl': False, 'inevit': False, 'rocketlab': False, 'aswellhav': False, 'gangin': False, 'dabblelik': False, 'admit': False, 'goev': False, 'terribl': False, 'su': False, 'eu': False, 'atvi': False, 'shirt': False, 'lawsuit': False, 'cashcow': False, 'cod': False, 'candi': False, 'fade': False, 'obscur': False, 'nov': False, 'bias': False, 'blizzard': False, 'whether': False, 'tend': False, 'pee': False, 'martini': False, 'alright': False, 'drink': False, 'bar': False, 'dvax': False, 'spottedi': False, 'ancient': False, 'kingdom': False, 'quest': False, 'burger': False, 'bankrupt': False, 'dix': False, 'gex': False, 'lowvolatil': False, 'nowher': False, 'commit': False, 'collar': False, 'crime': False, 'polit': False, 'sentiment': False, 'adjust': False, 'basi': False, 'friggin': False, 'btw': False, 'softwar': False, 'toydan': False, 'qe': False, 'tapersinterest': False, 'convinc': False, 'leggo': False, 'bullet': False, 'babbl': False, 'automoder': False, 'url': False, 'linksi': False, 'virginityim': False, 'deez': False, 'nut': False, 'bagshop': False, 'prayer': False, 'classifi': False, 'self': False, 'gainsloss': False, 'broader': False, 'perspect': False, 'rel': False, 'fam': False, 'dedic': False, 'dicker': False, 'roption': False, 'smol': False, 'relax': False, 'sadli': False, 'rnxt': False, 'buddi': False, 'hindenburg': False, 'quot': False, 'intent': False, 'gaytemp': False, 'easi': False, 'soooooo': False, 'fellow': False, 'dig': False, 'irspay': False, 'thrift': False, 'apprais': False, 'kyou': False, 'donat': False, 'lossyou': False, 'evadedy': False, 'leak': False, 'whale': False, 'kiddick': False, 'knowsmayb': False, 'apart': False, 'mechan': False, 'realloc': False, 'suppli': False, 'imag': False, 'duplic': False, 'immediatley': False, 'timehttpswwwredditcomgallerypfefm': False, 'fastest': False, 'ecommerc': False, 'consensu': False, 'prpl': False, 'where': False, 'journal': False, 'bother': False, 'precis': False, 'sava': False, 'mous': False, 'keyboard': False, 'headset': False, 'productsbuy': False, 'rhianna': False, 'kk': False, 'patient': False, 'aoc': False, 'coper': False, 'smallernot': False, 'budro': False, 'kin': False, 'camaro': False, 'shaft': False, 'languag': False, 'nativ': False, 'commun': False, 'third': False, 'graphic': False, 'cloud': False, 'payment': False, 'process': False, 'yearssom': False, 'crsrpump': False, 'cope': False, 'rmr': False, 'anem': False, 'retardftfi': False, 'mouth': False, 'savior': False, 'annoy': False, 'woman': False, 'nigh': False, 'betmgmcompoop': False, 'worksbetmgm': False, 'partnership': False, 'quadrupl': False, 'regret': False, 'imgurcom': False, 'beachwtf': False, 'aaaannd': False, 'poot': False, 'prerol': False, 'luckp': False, 'entranc': False, 'marathon': False, 'scum': False, 'reappli': False, 'typic': False, 'dunk': False, 'corni': False, 'yolod': False, 'shove': False, 'pregnanc': False, 'messi': False, 'ligma': False, 'strain': False, 'brief': False, 'slattslatt': False, 'slatti': False, 'hulk': False, 'spook': False, 'kek': False, 'kitchen': False, 'webul': False, 'rumor': False, 'moooon': False, 'fanboy': False, 'fidel': False, 'hmm': False, 'momentu': False, 'bucarood': False, 'gawl': False, 'violent': False, 'doomsday': False, 'uvxysqqq': False, 'equal': False, 'peachi': False, 'junk': False, 'wellyou': False, 'thisnobodi': False, 'advis': False, 'savingsalso': False, 'cunt': False, 'candl': False, 'bath': False, 'starter': False, 'crook': False, 'tooth': False, 'bword': False, 'onlyfan': False, 'rig': False, 'successfullyi': False, 'divid': False, 'mileslet': False, 'conserv': False, 'june': False, 'sixti': False, 'daynot': False, 'dayw': False, 'trip': False, 'drivethey': False, 'rack': False, 'plu': False, 'optionsth': False, 'earth': False, 'faster': False, 'crackwel': False, 'lotteri': False, 'excit': False, 'anymorei': False, 'adrenochrom': False, 'ddxhttpswwwredditcomrwallstreetbetscommentslqtebearmanifestationormayb': False, 'xhttpswwwredditcomrwallstreetbetscommentspboxtattoochefisastrongbuy': False, 'xhttpswwwredditcomrwallstreetbetscommentspbtitattoochefttcfastrongbuyshortsqueez': False, 'tim': False, 'chuck': False, 'e': False, 'chees': False, 'token': False, 'gtmassiv': False, 'brembo': False, 'wildwood': False, 'oem': False, 'edu': False, 'der': False, 'revenuesprofit': False, 'assess': False, 'perpetu': False, 'bettter': False, 'ditch': False, 'remot': False, 'legit': False, 'cum': False, 'cloudi': False, 'claw': False, 'tqqq': False, 'calendar': False, 'cook': False, 'til': False, 'persuad': False, 'sexual': False, 'scandalstel': False, 'upstart': False, 'foot': False, 'rambo': False, 'rocki': False, 'balboa': False, 'enjoy': False, 'avers': False, 'buckl': False, 'aspect': False, 'lifeto': False, 'matur': False, 'sunscreen': False, 'latter': False, 'coe': False, 'tabl': False, 'fulli': False, 'adult': False, 'horribl': False, 'currentlyi': False, 'iswith': False, 'circumst': False, 'present': False, 'dealer': False, 'reset': False, 'resettheclock': False, 'transact': False, 'reeeeee': False, 'alarm': False, 'practic': False, 'riskfre': False, 'thinlyveil': False, 'divvi': False, 'ira': False, 'theater': False, 'proprietari': False, 'gambler': False, 'humbl': False, 'brass': False, 'journey': False, 'dryer': False, 'wetter': False, 'ruin': False, 'stress': False, 'litter': False, 'armageddon': False, 'estim': False, 'handgun': False, 'nba': False, 'pro': False, 'asleep': False, 'degen': False, 'class': False, 'fubo': False, 'permiss': False, 'aboard': False, 'portfoliio': False, 'skilz': False, 'conscious': False, 'imperfect': False, 'algorithm': False, 'particular': False, 'behavior': False, 'accordingli': False, 'concept': False, 'eithera': False, 'impressiveb': False, 'revolutionari': False, 'orbit': False, 'infrastructur': False, 'revolutionarycombin': False, 'formid': False, 'gm': False, 'electr': False, 'competit': False, 'modelswhat': False, 'themi': False, 'logist': False, 'lordstown': False, 'canmi': False, 'falter': False, 'scoop': False, 'hub': False, 'observ': False, 'reward': False, 'pursuit': False, 'happinessbett': False, 'yah': False, 'dnr': False, 'musta': False, 'book': False, 'piss': False, 'nutti': False, 'tremend': False, 'geeme': False, 'counsel': False, 'overpump': False, 'tap': False, 'unload': False, 'newli': False, 'em': False, 'pretzel': False, 'thirsti': False, 'sea': False, 'tickerboard': False, 'tooedit': False, 'downhttpsibbcoxnh': False, 'scooter': False, 'mysteri': False, 'kindli': False, 'swindl': False, 'simultan': False, 'abil': False, 'outwit': False, 'scam': False, 'depress': False, 'dltr': False, 'easili': False, 'fulfil': False, 'propheci': False, 'bearishdoesnt': False, 'odd': False, 'fellat': False, 'form': False, 'shopifi': False, 'v': False, 'workout': False, 'nicest': False, 'puppi': False, 'weather': False, 'wer': False, 'friendli': False, 'univers': False, 'andor': False, 'content': False, 'downnnnnn': False, 'road': False, 'cyber': False, 'startup': False, 'entrench': False, 'heck': False, 'kgtk': False, 'fivn': False, 'amd': False, 'tempt': False, 'scrap': False, 'metal': False, 'tow': False, 'capac': False, 'andmost': False, 'rave': False, 'asan': False, 'freal': False, 'vacat': False, 'now': False, 'pto': False, 'drove': False, 'trail': False, 'doll': False, 'summar': False, 'fromampxbgtbi': False, 'marker': False, 'timetoampxbgtth': False, 'clearampxbthat': False, 'dropoff': False, 'convict': False, 'respond': False, 'twosent': False, 'greater': False, 'landscap': False, 'iphon': False, 'manipul': False, 'remindm': False, 'invisiblei': False, 'snack': False, 'ternion': False, 'httpsprntscqwgqd': False, 'implos': False, 'weak': False, 'swore': False, 'wager': False, 'folk': False, 'gigafactori': False, 'shanghai': False, 'oper': False, 'aka': False, 'gouda': False, 'anoos': False, 'taper': False, 'asshol': False, 'hop': False, 'blockquot': False, 'indent': False, 'code': False, 'block': False, 'pressur': False, 'sleeper': False, 'rebuy': False, 'dire': False, 'mmmmm': False, 'skyrocket': False, 'alt': False, 'unsur': False, 'footag': False, 'dox': False, 'author': False, 'notifi': False, 'devour': False, 'thumb': False, 'steam': False, 'medium': False, 'texa': False, 'fren': False, 'pack': False, 'addict': False, 'sharesi': False, 'twitter': False, 'fargo': False, 'bngo': False, 'heavili': False, 'updoc': False, 'justif': False, 'prosecutor': False, 'websit': False, 'dice': False, 'hurrican': False, 'vagina': False, 'wellssign': False, 'downsid': False, 'correctjob': False, 'throw': False, 'downvot': False, 'mustard': False, 'skip': False, 'stripper': False, 'pole': False, 'ps': False, 'earlier': False, 'flip': False, 'cuck': False, 'predictionsskilz': False, 'holla': False, 'yooosoooo': False, 'daughter': False, 'nahhhhhhh': False, 'insist': False, 'assign': False, 'itjust': False, 'sht': False, 'cascad': False, 'lolol': False, 'underli': False, 'caught': False, 'fraud': False, 'centr': False, 'privat': False, 'timehttpsiredditnqmvsyrkjpg': False, 'chick': False, 'impati': False, 'await': False, 'dkngespn': False, 'father': False, 'wd': False, 'spec': False, 'chevi': False, 'silverado': False, 'chasi': False, 'workforit': False, 'bye': False, 'midjuli': False, 'baggi': False, 'flu': False, 'shot': False, 'plumber': False, 'elev': False, 'technician': False, 'fixerupp': False, 'anacostia': False, 'rug': False, 'mil': False, 'httpsduedillyiotraderrchemakyl': False, 'gainloss': False, 'shortlong': False, 'fuel': False, 'bulli': False, 'greta': False, 'thurnberg': False, 'chair': False, 'norway': False, 'fjord': False, 'fjusion': False, 'mma': False, 'gym': False, 'outsourc': False, 'pride': False, 'amateur': False, 'algo': False, 'passiv': False, 'thatedit': False, 'land': False, 'pair': False, 'finest': False, 'typo': False, 'nevermind': False, 'outchyeaa': False, 'threshold': False, 'wrap': False, 'warn': False, 'farmer': False, 'septembul': False, 'flatlin': False, 'cathiejust': False, 'mainten': False, 'mow': False, 'lawn': False, 'length': False, 'hide': False, 'buri': False, 'sand': False, 'chartgifemotefreeemotespackthinkingfacehmm': False, 'sighpeni': False, 'penisdisclaim': False, 'lifestyl': False, 'drag': False, 'downwho': False, 'loveon': False, 'lighton': False, 'hacker': False, 'hack': False, 'chess': False, 'anonym': False, 'acknowledg': False, 'truth': False, 'ignor': False, 'spineless': False, 'boss': False, 'wacki': False, 'nit': False, 'picki': False, 'convert': False, 'schrute': False, 'stanley': False, 'nickel': False, 'betterit': False, 'victori': False, 'strangl': False, 'breakout': False, 'rangego': False, 'vale': False, 'continuesgo': False, 'yum': False, 'easylastli': False, 'descend': False, 'triangl': False, 'fcel': False, 'uncharacterist': False, 'bp': False, 'shall': False, 'godsoh': False, 'almighti': False, 'zeu': False, 'folli': False, 'tick': False, 'goddammit': False, 'afrm': False, 'panera': False, 'subway': False, 'coupon': False, 'mail': False, 'challeng': False, 'cashier': False, 'meal': False, 'lold': False, 'scare': False, 'papa': False, 'joe': False, 'comfort': False, 'mban': False, 'outperform': False, 'gimmick': False, 'illuminati': False, 'lizard': False, 'jew': False, 'sheepl': False, 'goooooooo': False, 'teach': False, 'baseless': False, 'assumpt': False, 'focus': False, 'youbought': False, 'yeaa': False, 'ie': False, 'husband': False, 'monthc': False, 'inhibit': False, 'gout': False, 'rrrrrrrrrrrrrrrrr': False, 'oof': False, 'lmaaao': False, 'resid': False, 'evilhighlightshttpsstreamablecomwyi': False, 'mailbox': False, 'whichev': False, 'soooo': False, 'umm': False, 'damnshd': False, 'kabul': False, 'airport': False, 'berz': False, 'tippi': False, 'nightmar': False, 'talent': False, 'naan': False, 'gigant': False, 'bled': False, 'eua': False, 'underestim': False, 'areim': False, 'spoon': False, 'balanc': False, 'spongebob': False, 'squarep': False, 'wsbhttpsstreamablecomsmw': False, 'schedul': False, 'asml': False, 'nofap': False, 'splish': False, 'splashholi': False, 'shortedit': False, 'increasednot': False, 'saut': False, 'mushroom': False, 'pan': False, 'httpredditcompffzfp': False, 'error': False, 'somewhat': False, 'coars': False, 'cmon': False, 'ifmgm': False, 'glanc': False, 'poland': False, 'infinit': False, 'distraught': False, 'rope': False, 'cleaner': False, 'itd': False, 'inperson': False, 'interact': False, 'apt': False, 'comparisontomorrow': False, 'jinp': False, 'gov': False, 'phenibut': False, 'threadw': False, 'greatest': False, 'flyer': False, 'scalp': False, 'gey': False, 'nevertheless': False, 'shrek': False, 'creat': False, 'unsustain': False, 'promis': False, 'blab': False, 'ophop': False, 'rthetagang': False, 'meantim': False, 'door': False, 'outalso': False, 'cassett': False, 'yanni': False, 'riskywer': False, 'fallhav': False, 'correctionyoul': False, 'happier': False, 'ifwhen': False, 'cuckoo': False, 'nest': False, 'discrimin': False, 'terriblealso': False, 'lmaooo': False, 'pdt': False, 'stare': False, 'spyi': False, 'prophesi': False, 'impend': False, 'brutal': False, 'plummetingstock': False, 'cain': False, 'plural': False, 'debat': False, 'chicken': False, 'coat': False, 'dave': False, 'importhi': False, 'deadass': False, 'spaciou': False, 'bathroom': False, 'diaper': False, 'stationdont': False, 'finra': False, 'endlessli': False, 'portland': False, 'tent': False, 'interst': False, 'tam': False, 'spain': False, 'exmilitari': False, 'constant': False, 'ream': False, 'callou': False, 'fusion': False, 'bmw': False, 'conflict': False, 'mightiest': False, 'hammer': False, 'arm': False, 'swole': False, 'fold': False, 'avatar': False, 'blank': False, 'featureless': False, 'purpl': False, 'commentunshun': False, 'reshun': False, 'tf': False, 'quicker': False, 'thenalso': False, 'tier': False, 'choos': False, 'nicer': False, 'turd': False, 'outther': False, 'mistakenli': False, 'ladder': False, 'seekingalphacom': False, 'uprofanitycount': False, 'opthi': False, 'greedymost': False, 'mediabankersredditor': False, 'clueless': False, 'overestim': False, 'citizen': False, 'congressmen': False, 'bow': False, 'corpor': False, 'lobbyist': False, 'technolog': False, 'cancer': False, 'mrna': False, 'sweat': False, 'tollway': False, 'burden': False, 'yeahsel': False, 'thet': False, 'shame': False, 'ol': False, 'email': False, 'chwyreport': False, 'season': False, 'begun': False, 'crackhead': False, 'yo': False, 'doggo': False, 'mouf': False, 'sinner': False, 'winnerrememb': False, 'sardin': False, 'gtmedium': False, 'rewardif': False, 'guh': False, 'tnya': False, 'micro': False, 'pokemon': False, 'deger': False, 'spheroid': False, 'chynabad': False, 'usagud': False, 'uhhh': False, 'jimmi': False, 'helluva': False, 'craze': False, 'iasip': False, 'scene': False, 'familiar': False, 'potato': False, 'oneman': False, 'master': False, 'pampder': False, 'jefferi': False, 'soni': False, 'pigskin': False, 'mountain': False, 'frequencyin': False, 'darn': False, 'streak': False, 'uphttpswwwredditcomrwallstreetbetscommentspbrdailydiscussionthreadforaugusthaabrkutmsourceshareamputmmediumwebxampcontext': False, 'craziest': False, 'techinc': False, 'reeeeeal': False, 'daysp': False, 'precursor': False, 'knockoff': False, 'tradingview': False, 'pfof': False, 'impli': False, 'volitil': False, 'pacif': False, 'bancorp': False, 'hunt': False, 'weaken': False, 'herd': False, 'breed': False, 'goatard': False, 'spawn': False, 'expans': False, 'pickup': False, 'clarif': False, 'yearnot': False, 'beaten': False, 'strut': False, 'muddl': False, 'mainli': False, 'muy': False, 'bien': False, 'brainard': False, 'viagra': False, 'maci': False, 'hord': False, 'bean': False, 'moni': False, 'stocksmayb': False, 'henc': False, 'genuin': False, 'freedom': False, 'speech': False, 'strictli': False, 'juic': False, 'tasti': False, 'studi': False, 'lmaoo': False, 'dollarshar': False, 'hank': False, 'yr': False, 'although': False, 'wee': False, 'eom': False, 'louisiana': False, 'closet': False, 'bearsand': False, 'septembullhop': False, 'underhand': False, 'wind': False, 'press': False, 'bone': False, 'httpstwittercomrealwillmeadestatu': False, 'nothin': False, 'hoochi': False, 'mama': False, 'gtthe': False, 'implicationsw': False, 'implicationslook': False, 'transitori': False, 'longterm': False, 'mild': False, 'atampt': False, 'con': False, 'fav': False, 'fintwit': False, 'gtroot': False, 'httpsibbcogshkqdabout': False, 'titeto': False, 'irl': False, 'payday': False, 'score': False, 'cardio': False, 'flapjack': False, 'readjust': False, 'dragon': False, 'ci': False, 'intens': False, 'purpos': False, 'bandwagon': False, 'knew': False, 'degener': False}, 1)\n"
     ]
    }
   ],
   "source": [
    "featuresets = [(find_features(comment), sentiment) for (comment, sentiment) in documents]\n",
    "\n",
    "print(featuresets[1])"
   ]
  },
  {
   "cell_type": "code",
   "execution_count": 30,
   "metadata": {},
   "outputs": [],
   "source": [
    "#Pickle featureset for later use\n",
    "save_featuresets = open(\"pickled_outputs/featuresets.pickle\",\"wb\")\n",
    "pickle.dump(featuresets, save_featuresets)\n",
    "save_featuresets.close()"
   ]
  },
  {
   "cell_type": "markdown",
   "metadata": {},
   "source": [
    "Let us see how this works on our training data."
   ]
  },
  {
   "cell_type": "code",
   "execution_count": 31,
   "metadata": {},
   "outputs": [
    {
     "name": "stdout",
     "output_type": "stream",
     "text": [
      "Classifier accuracy percent: 63.89645776566758\n"
     ]
    }
   ],
   "source": [
    "cutoff = round(len(featuresets) * 0.8)\n",
    "training_set = featuresets[:cutoff]\n",
    "testing_set = featuresets[cutoff+1:]\n",
    "\n",
    "naive_bayes_classifier = nltk.NaiveBayesClassifier.train(training_set)\n",
    "print(\"Classifier accuracy percent:\",(nltk.classify.accuracy(naive_bayes_classifier, testing_set))*100)\n"
   ]
  },
  {
   "cell_type": "markdown",
   "metadata": {},
   "source": [
    "We can see our most influential words below."
   ]
  },
  {
   "cell_type": "code",
   "execution_count": 32,
   "metadata": {},
   "outputs": [
    {
     "name": "stdout",
     "output_type": "stream",
     "text": [
      "Most Informative Features\n",
      "                    best = True                1 : -1     =      9.1 : 1.0\n",
      "                 current = True                1 : -1     =      8.4 : 1.0\n",
      "                 absolut = True                1 : -1     =      7.7 : 1.0\n",
      "                 congrat = True               -1 : 1      =      6.9 : 1.0\n",
      "                  messag = True                1 : -1     =      6.4 : 1.0\n",
      "            gainlossyolo = True                1 : -1     =      6.2 : 1.0\n",
      "                     goe = True                1 : -1     =      5.8 : 1.0\n",
      "                  someth = True                1 : -1     =      5.8 : 1.0\n",
      "                    jack = True               -1 : 1      =      5.8 : 1.0\n",
      "                   bring = True               -1 : 1      =      5.6 : 1.0\n",
      "                    fine = True               -1 : 1      =      5.6 : 1.0\n",
      "                      pm = True               -1 : 1      =      5.6 : 1.0\n",
      "                  whatev = True               -1 : 1      =      5.6 : 1.0\n",
      "                     dte = True                1 : -1     =      5.0 : 1.0\n",
      "                   incom = True                1 : -1     =      5.0 : 1.0\n"
     ]
    }
   ],
   "source": [
    "naive_bayes_classifier.show_most_informative_features(15)"
   ]
  },
  {
   "cell_type": "markdown",
   "metadata": {},
   "source": [
    "Excellent, we have an accuracy of 82%! Now, we should save this classifier to use when voting later."
   ]
  },
  {
   "cell_type": "code",
   "execution_count": 33,
   "metadata": {},
   "outputs": [],
   "source": [
    "save_classifier = open('pickled_outputs/naivebayes.pickle','wb')\n",
    "pickle.dump(naive_bayes_classifier, save_classifier)\n",
    "save_classifier.close()"
   ]
  },
  {
   "cell_type": "markdown",
   "metadata": {},
   "source": [
    "Other classifiers - this may take a substantial amount of time to run."
   ]
  },
  {
   "cell_type": "code",
   "execution_count": 34,
   "metadata": {},
   "outputs": [
    {
     "data": {
      "text/plain": [
       "<SklearnClassifier(NuSVC())>"
      ]
     },
     "execution_count": 34,
     "metadata": {},
     "output_type": "execute_result"
    }
   ],
   "source": [
    "MNB_classifier = SklearnClassifier(MultinomialNB())\n",
    "MNB_classifier.train(training_set)\n",
    "\n",
    "BNB_classifier = SklearnClassifier(BernoulliNB())\n",
    "BNB_classifier.train(training_set)\n",
    "\n",
    "LogisticRegression_classifier = SklearnClassifier(LogisticRegression())\n",
    "LogisticRegression_classifier.train(training_set)\n",
    "\n",
    "SGDClassifier_classifier = SklearnClassifier(SGDClassifier())\n",
    "SGDClassifier_classifier.train(training_set)\n",
    "\n",
    "SVC_classifier = SklearnClassifier(SVC())\n",
    "SVC_classifier.train(training_set)\n",
    "\n",
    "LinearSVC_classifier = SklearnClassifier(LinearSVC())\n",
    "LinearSVC_classifier.train(training_set)\n",
    "\n",
    "NuSVC_classifier = SklearnClassifier(NuSVC())\n",
    "NuSVC_classifier.train(training_set)"
   ]
  },
  {
   "cell_type": "code",
   "execution_count": 35,
   "metadata": {},
   "outputs": [],
   "source": [
    "#MNB\n",
    "save_classifier = open(\"pickled_outputs/MNB_classifier.pickle\",\"wb\")\n",
    "pickle.dump(MNB_classifier, save_classifier)\n",
    "save_classifier.close()\n",
    "\n",
    "#BNB\n",
    "save_classifier = open(\"pickled_outputs/BNB_classifier.pickle\",\"wb\")\n",
    "pickle.dump(BNB_classifier, save_classifier)\n",
    "save_classifier.close()\n",
    "\n",
    "#Logistic Regression\n",
    "save_classifier = open(\"pickled_outputs/LogisticRegression_classifier.pickle\",\"wb\")\n",
    "pickle.dump(LogisticRegression_classifier, save_classifier)\n",
    "save_classifier.close()\n",
    "\n",
    "#SGD\n",
    "save_classifier = open(\"pickled_outputs/SGDClassifier_classifier.pickle\",\"wb\")\n",
    "pickle.dump(SGDClassifier_classifier, save_classifier)\n",
    "save_classifier.close()\n",
    "\n",
    "#SVC\n",
    "save_classifier = open(\"pickled_outputs/SVC_classifier.pickle\",\"wb\")\n",
    "pickle.dump(SVC_classifier, save_classifier)\n",
    "save_classifier.close()\n",
    "\n",
    "#LinearSVC\n",
    "save_classifier = open(\"pickled_outputs/LinearSVC_classifier.pickle\",\"wb\")\n",
    "pickle.dump(LinearSVC_classifier, save_classifier)\n",
    "save_classifier.close()\n",
    "\n",
    "#NUSVC\n",
    "save_classifier = open(\"pickled_outputs/NuSVC_classifier.pickle\",\"wb\")\n",
    "pickle.dump(NuSVC_classifier, save_classifier)\n",
    "save_classifier.close()\n"
   ]
  },
  {
   "cell_type": "markdown",
   "metadata": {},
   "source": [
    "Let's check the accuracy of the above models."
   ]
  },
  {
   "cell_type": "code",
   "execution_count": 36,
   "metadata": {},
   "outputs": [
    {
     "name": "stdout",
     "output_type": "stream",
     "text": [
      "MNB_classifier accuracy percent: 62.67029972752044\n",
      "BNB accuracy percent: 62.125340599455036\n",
      "LogisticRegression_classifier accuracy percent: 69.34604904632153\n",
      "SGDClassifier_classifier accuracy percent: 68.66485013623979\n",
      "SVC_classifier accuracy percent: 73.56948228882834\n",
      "LinearSVC_classifier accuracy percent: 71.2534059945504\n",
      "NuSVC_classifier accuracy percent: 76.43051771117166\n"
     ]
    }
   ],
   "source": [
    "print(\"MNB_classifier accuracy percent:\", (nltk.classify.accuracy(MNB_classifier, testing_set))*100)\n",
    "print(\"BNB accuracy percent:\", (nltk.classify.accuracy(BNB_classifier, testing_set))*100)\n",
    "print(\"LogisticRegression_classifier accuracy percent:\", (nltk.classify.accuracy(LogisticRegression_classifier, testing_set))*100)\n",
    "print(\"SGDClassifier_classifier accuracy percent:\", (nltk.classify.accuracy(SGDClassifier_classifier, testing_set))*100)\n",
    "print(\"SVC_classifier accuracy percent:\", (nltk.classify.accuracy(SVC_classifier, testing_set))*100)\n",
    "print(\"LinearSVC_classifier accuracy percent:\", (nltk.classify.accuracy(LinearSVC_classifier, testing_set))*100)\n",
    "print(\"NuSVC_classifier accuracy percent:\", (nltk.classify.accuracy(NuSVC_classifier, testing_set))*100)\n"
   ]
  },
  {
   "cell_type": "markdown",
   "metadata": {},
   "source": [
    "Declaration of our vote classifier class"
   ]
  },
  {
   "cell_type": "code",
   "execution_count": 37,
   "metadata": {},
   "outputs": [],
   "source": [
    "class VotingClassifier(ClassifierI):\n",
    "    def __init__(self, *classifiers):\n",
    "        self._classifiers = classifiers\n",
    "\n",
    "    def classify(self, features):\n",
    "        votes = []\n",
    "        for classifier in self._classifiers:\n",
    "            vote = classifier.classify(features)\n",
    "            votes.append(vote)\n",
    "        return mode(votes)\n",
    "\n",
    "    def evaluate_confidence(self, features):\n",
    "        votes = []\n",
    "        for classifier in self._classifiers:\n",
    "            vote = classifier.classify(features)\n",
    "            votes.append(vote)\n",
    "            \n",
    "        choice_votes = votes.count(mode(votes))\n",
    "        confidence = choice_votes / len(votes)\n",
    "        return confidence\n",
    "\n",
    "\n"
   ]
  },
  {
   "cell_type": "code",
   "execution_count": 38,
   "metadata": {},
   "outputs": [
    {
     "name": "stdout",
     "output_type": "stream",
     "text": [
      "voted_classifier accuracy percent: 70.02724795640327\n"
     ]
    }
   ],
   "source": [
    "voting_classifier = VotingClassifier(naive_bayes_classifier, MNB_classifier, BNB_classifier, LogisticRegression_classifier, SGDClassifier_classifier, SVC_classifier, LinearSVC_classifier, NuSVC_classifier)\n",
    "print(\"voted_classifier accuracy percent:\", (nltk.classify.accuracy(voting_classifier, testing_set))*100)\n"
   ]
  },
  {
   "cell_type": "code",
   "execution_count": 39,
   "metadata": {},
   "outputs": [
    {
     "name": "stdout",
     "output_type": "stream",
     "text": [
      "Classification is:  -1 Confidence is:  87.5\n",
      "Classification is:  -1 Confidence is:  87.5\n",
      "Classification is:  -1 Confidence is:  50.0\n",
      "Classification is:  -1 Confidence is:  100.0\n",
      "Classification is:  1 Confidence is:  62.5\n",
      "Classification is:  -1 Confidence is:  50.0\n",
      "Classification is:  1 Confidence is:  75.0\n",
      "Classification is:  -1 Confidence is:  87.5\n",
      "Classification is:  -1 Confidence is:  75.0\n",
      "Classification is:  1 Confidence is:  100.0\n"
     ]
    }
   ],
   "source": [
    "num_to_test = 10\n",
    "\n",
    "for i in range(num_to_test):\n",
    "    print(\"Classification is: \", (voting_classifier.classify(testing_set[i][0])), \"Confidence is: \", (voting_classifier.evaluate_confidence(testing_set[i][0]))*100)\n",
    "\n"
   ]
  },
  {
   "cell_type": "code",
   "execution_count": null,
   "metadata": {},
   "outputs": [],
   "source": []
  }
 ],
 "metadata": {
  "interpreter": {
   "hash": "aee8b7b246df8f9039afb4144a1f6fd8d2ca17a180786b69acc140d282b71a49"
  },
  "kernelspec": {
   "display_name": "Python 3 (ipykernel)",
   "language": "python",
   "name": "python3"
  },
  "language_info": {
   "codemirror_mode": {
    "name": "ipython",
    "version": 3
   },
   "file_extension": ".py",
   "mimetype": "text/x-python",
   "name": "python",
   "nbconvert_exporter": "python",
   "pygments_lexer": "ipython3",
   "version": "3.9.10"
  }
 },
 "nbformat": 4,
 "nbformat_minor": 2
}
